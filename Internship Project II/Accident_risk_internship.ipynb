{
 "cells": [
  {
   "cell_type": "markdown",
   "id": "255fd370",
   "metadata": {},
   "source": [
    "# Importing Libraries:"
   ]
  },
  {
   "cell_type": "code",
   "execution_count": 1,
   "id": "0fd5ed15",
   "metadata": {},
   "outputs": [],
   "source": [
    "import numpy as np\n",
    "import seaborn as sns\n",
    "import matplotlib.pyplot as plt\n",
    "import pandas as pd\n",
    "import plotly.express as px\n",
    "from sklearn.feature_extraction.text import CountVectorizer\n",
    "from sklearn.feature_extraction.text import TfidfVectorizer\n",
    "from tqdm import tqdm\n",
    "from datetime import datetime\n",
    "from sklearn.preprocessing import OrdinalEncoder\n",
    "from sklearn.feature_selection import VarianceThreshold\n",
    "import math\n",
    "from sklearn.model_selection import StratifiedShuffleSplit\n",
    "from sklearn.preprocessing import Normalizer\n",
    "from sklearn.preprocessing import MinMaxScaler\n",
    "from sklearn.preprocessing import OneHotEncoder\n",
    "import re\n",
    "from scipy.sparse import hstack\n",
    "import lightgbm as ltb\n",
    "import pickle\n",
    "from sklearn.metrics import mean_squared_error\n",
    "import math\n",
    "from sklearn.model_selection import RandomizedSearchCV\n",
    "import shap"
   ]
  },
  {
   "cell_type": "code",
   "execution_count": 2,
   "id": "f27f28cc",
   "metadata": {},
   "outputs": [],
   "source": [
    "data = pd.read_csv(\"uk_accident_dataset.csv\")"
   ]
  },
  {
   "cell_type": "code",
   "execution_count": 3,
   "id": "a93fe73f",
   "metadata": {},
   "outputs": [
    {
     "data": {
      "text/plain": [
       "(478741, 27)"
      ]
     },
     "execution_count": 3,
     "metadata": {},
     "output_type": "execute_result"
    }
   ],
   "source": [
    "data.shape"
   ]
  },
  {
   "cell_type": "code",
   "execution_count": 4,
   "id": "f3ae0e55",
   "metadata": {},
   "outputs": [
    {
     "data": {
      "text/html": [
       "<div>\n",
       "<style scoped>\n",
       "    .dataframe tbody tr th:only-of-type {\n",
       "        vertical-align: middle;\n",
       "    }\n",
       "\n",
       "    .dataframe tbody tr th {\n",
       "        vertical-align: top;\n",
       "    }\n",
       "\n",
       "    .dataframe thead th {\n",
       "        text-align: right;\n",
       "    }\n",
       "</style>\n",
       "<table border=\"1\" class=\"dataframe\">\n",
       "  <thead>\n",
       "    <tr style=\"text-align: right;\">\n",
       "      <th></th>\n",
       "      <th>Accident_ID</th>\n",
       "      <th>Police_Force</th>\n",
       "      <th>Number_of_Vehicles</th>\n",
       "      <th>Number_of_Casualties</th>\n",
       "      <th>Date</th>\n",
       "      <th>Day_of_Week</th>\n",
       "      <th>Time</th>\n",
       "      <th>Local_Authority_(District)</th>\n",
       "      <th>Local_Authority_(Highway)</th>\n",
       "      <th>1st_Road_Class</th>\n",
       "      <th>...</th>\n",
       "      <th>Light_Conditions</th>\n",
       "      <th>Weather_Conditions</th>\n",
       "      <th>Road_Surface_Conditions</th>\n",
       "      <th>Special_Conditions_at_Site</th>\n",
       "      <th>Carriageway_Hazards</th>\n",
       "      <th>Urban_or_Rural_Area</th>\n",
       "      <th>Did_Police_Officer_Attend_Scene_of_Accident</th>\n",
       "      <th>state</th>\n",
       "      <th>postcode</th>\n",
       "      <th>country</th>\n",
       "    </tr>\n",
       "  </thead>\n",
       "  <tbody>\n",
       "    <tr>\n",
       "      <th>0</th>\n",
       "      <td>1</td>\n",
       "      <td>34</td>\n",
       "      <td>2</td>\n",
       "      <td>1</td>\n",
       "      <td>19/12/12</td>\n",
       "      <td>7</td>\n",
       "      <td>13:20</td>\n",
       "      <td>344</td>\n",
       "      <td>E10000032</td>\n",
       "      <td>4</td>\n",
       "      <td>...</td>\n",
       "      <td>Daylight: Street light present</td>\n",
       "      <td>Fine without high winds</td>\n",
       "      <td>Dry</td>\n",
       "      <td>Ol or diesel</td>\n",
       "      <td>None</td>\n",
       "      <td>1</td>\n",
       "      <td>Yes</td>\n",
       "      <td>England</td>\n",
       "      <td>OX3 9UP</td>\n",
       "      <td>United Kingdom</td>\n",
       "    </tr>\n",
       "    <tr>\n",
       "      <th>1</th>\n",
       "      <td>2</td>\n",
       "      <td>5</td>\n",
       "      <td>2</td>\n",
       "      <td>1</td>\n",
       "      <td>02/11/12</td>\n",
       "      <td>4</td>\n",
       "      <td>7:53</td>\n",
       "      <td>102</td>\n",
       "      <td>E09000026</td>\n",
       "      <td>3</td>\n",
       "      <td>...</td>\n",
       "      <td>Daylight: Street light present</td>\n",
       "      <td>Raining without high winds</td>\n",
       "      <td>Dry</td>\n",
       "      <td>None</td>\n",
       "      <td>None</td>\n",
       "      <td>1</td>\n",
       "      <td>No</td>\n",
       "      <td>England</td>\n",
       "      <td>S35 4EZ</td>\n",
       "      <td>United Kingdom</td>\n",
       "    </tr>\n",
       "    <tr>\n",
       "      <th>2</th>\n",
       "      <td>3</td>\n",
       "      <td>1</td>\n",
       "      <td>2</td>\n",
       "      <td>1</td>\n",
       "      <td>02/11/12</td>\n",
       "      <td>4</td>\n",
       "      <td>16:00</td>\n",
       "      <td>531</td>\n",
       "      <td>E10000016</td>\n",
       "      <td>6</td>\n",
       "      <td>...</td>\n",
       "      <td>Daylight: Street light present</td>\n",
       "      <td>Fine without high winds</td>\n",
       "      <td>Dry</td>\n",
       "      <td>None</td>\n",
       "      <td>None</td>\n",
       "      <td>1</td>\n",
       "      <td>No</td>\n",
       "      <td>England</td>\n",
       "      <td>BN21 2XR</td>\n",
       "      <td>United Kingdom</td>\n",
       "    </tr>\n",
       "    <tr>\n",
       "      <th>3</th>\n",
       "      <td>4</td>\n",
       "      <td>1</td>\n",
       "      <td>1</td>\n",
       "      <td>1</td>\n",
       "      <td>06/05/12</td>\n",
       "      <td>1</td>\n",
       "      <td>16:50</td>\n",
       "      <td>7</td>\n",
       "      <td>E08000035</td>\n",
       "      <td>6</td>\n",
       "      <td>...</td>\n",
       "      <td>Daylight: Street light present</td>\n",
       "      <td>Fine without high winds</td>\n",
       "      <td>Dry</td>\n",
       "      <td>Roadworks</td>\n",
       "      <td>None</td>\n",
       "      <td>1</td>\n",
       "      <td>Yes</td>\n",
       "      <td>England</td>\n",
       "      <td>TA20 3PT</td>\n",
       "      <td>United Kingdom</td>\n",
       "    </tr>\n",
       "    <tr>\n",
       "      <th>4</th>\n",
       "      <td>5</td>\n",
       "      <td>46</td>\n",
       "      <td>1</td>\n",
       "      <td>1</td>\n",
       "      <td>30/06/12</td>\n",
       "      <td>3</td>\n",
       "      <td>13:25</td>\n",
       "      <td>519</td>\n",
       "      <td>E10000031</td>\n",
       "      <td>3</td>\n",
       "      <td>...</td>\n",
       "      <td>Daylight: Street light present</td>\n",
       "      <td>Fine without high winds</td>\n",
       "      <td>Dry</td>\n",
       "      <td>None</td>\n",
       "      <td>None</td>\n",
       "      <td>1</td>\n",
       "      <td>No</td>\n",
       "      <td>England</td>\n",
       "      <td>DN20 0QF</td>\n",
       "      <td>United Kingdom</td>\n",
       "    </tr>\n",
       "  </tbody>\n",
       "</table>\n",
       "<p>5 rows × 27 columns</p>\n",
       "</div>"
      ],
      "text/plain": [
       "   Accident_ID  Police_Force  Number_of_Vehicles  Number_of_Casualties  \\\n",
       "0            1            34                   2                     1   \n",
       "1            2             5                   2                     1   \n",
       "2            3             1                   2                     1   \n",
       "3            4             1                   1                     1   \n",
       "4            5            46                   1                     1   \n",
       "\n",
       "       Date  Day_of_Week   Time  Local_Authority_(District)  \\\n",
       "0  19/12/12            7  13:20                         344   \n",
       "1  02/11/12            4   7:53                         102   \n",
       "2  02/11/12            4  16:00                         531   \n",
       "3  06/05/12            1  16:50                           7   \n",
       "4  30/06/12            3  13:25                         519   \n",
       "\n",
       "  Local_Authority_(Highway)  1st_Road_Class  ...  \\\n",
       "0                 E10000032               4  ...   \n",
       "1                 E09000026               3  ...   \n",
       "2                 E10000016               6  ...   \n",
       "3                 E08000035               6  ...   \n",
       "4                 E10000031               3  ...   \n",
       "\n",
       "                 Light_Conditions          Weather_Conditions  \\\n",
       "0  Daylight: Street light present     Fine without high winds   \n",
       "1  Daylight: Street light present  Raining without high winds   \n",
       "2  Daylight: Street light present     Fine without high winds   \n",
       "3  Daylight: Street light present     Fine without high winds   \n",
       "4  Daylight: Street light present     Fine without high winds   \n",
       "\n",
       "   Road_Surface_Conditions  Special_Conditions_at_Site  Carriageway_Hazards  \\\n",
       "0                      Dry                Ol or diesel                 None   \n",
       "1                      Dry                        None                 None   \n",
       "2                      Dry                        None                 None   \n",
       "3                      Dry                   Roadworks                 None   \n",
       "4                      Dry                        None                 None   \n",
       "\n",
       "  Urban_or_Rural_Area Did_Police_Officer_Attend_Scene_of_Accident    state  \\\n",
       "0                   1                                         Yes  England   \n",
       "1                   1                                          No  England   \n",
       "2                   1                                          No  England   \n",
       "3                   1                                         Yes  England   \n",
       "4                   1                                          No  England   \n",
       "\n",
       "   postcode         country  \n",
       "0   OX3 9UP  United Kingdom  \n",
       "1   S35 4EZ  United Kingdom  \n",
       "2  BN21 2XR  United Kingdom  \n",
       "3  TA20 3PT  United Kingdom  \n",
       "4  DN20 0QF  United Kingdom  \n",
       "\n",
       "[5 rows x 27 columns]"
      ]
     },
     "execution_count": 4,
     "metadata": {},
     "output_type": "execute_result"
    }
   ],
   "source": [
    "data.head()"
   ]
  },
  {
   "cell_type": "markdown",
   "id": "6d9684aa",
   "metadata": {},
   "source": [
    "# Data Summary:"
   ]
  },
  {
   "cell_type": "code",
   "execution_count": 5,
   "id": "17bb4eb7",
   "metadata": {},
   "outputs": [
    {
     "name": "stdout",
     "output_type": "stream",
     "text": [
      "<class 'pandas.core.frame.DataFrame'>\n",
      "RangeIndex: 478741 entries, 0 to 478740\n",
      "Data columns (total 27 columns):\n",
      " #   Column                                       Non-Null Count   Dtype \n",
      "---  ------                                       --------------   ----- \n",
      " 0   Accident_ID                                  478741 non-null  int64 \n",
      " 1   Police_Force                                 478741 non-null  int64 \n",
      " 2   Number_of_Vehicles                           478741 non-null  int64 \n",
      " 3   Number_of_Casualties                         478741 non-null  int64 \n",
      " 4   Date                                         478741 non-null  object\n",
      " 5   Day_of_Week                                  478741 non-null  int64 \n",
      " 6   Time                                         478727 non-null  object\n",
      " 7   Local_Authority_(District)                   478741 non-null  int64 \n",
      " 8   Local_Authority_(Highway)                    478741 non-null  object\n",
      " 9   1st_Road_Class                               478741 non-null  int64 \n",
      " 10  1st_Road_Number                              478741 non-null  int64 \n",
      " 11  Road_Type                                    478741 non-null  object\n",
      " 12  Speed_limit                                  478741 non-null  int64 \n",
      " 13  2nd_Road_Class                               478741 non-null  int64 \n",
      " 14  2nd_Road_Number                              478741 non-null  int64 \n",
      " 15  Pedestrian_Crossing-Human_Control            478741 non-null  object\n",
      " 16  Pedestrian_Crossing-Physical_Facilities      478741 non-null  object\n",
      " 17  Light_Conditions                             478741 non-null  object\n",
      " 18  Weather_Conditions                           478741 non-null  object\n",
      " 19  Road_Surface_Conditions                      478289 non-null  object\n",
      " 20  Special_Conditions_at_Site                   478678 non-null  object\n",
      " 21  Carriageway_Hazards                          478741 non-null  object\n",
      " 22  Urban_or_Rural_Area                          478741 non-null  int64 \n",
      " 23  Did_Police_Officer_Attend_Scene_of_Accident  478741 non-null  object\n",
      " 24  state                                        478741 non-null  object\n",
      " 25  postcode                                     478741 non-null  object\n",
      " 26  country                                      478741 non-null  object\n",
      "dtypes: int64(12), object(15)\n",
      "memory usage: 98.6+ MB\n"
     ]
    }
   ],
   "source": [
    "data.info() # general summary of data."
   ]
  },
  {
   "cell_type": "code",
   "execution_count": 6,
   "id": "997bd8a6",
   "metadata": {},
   "outputs": [
    {
     "data": {
      "text/plain": [
       "Accident_ID                                      0\n",
       "Police_Force                                     0\n",
       "Number_of_Vehicles                               0\n",
       "Number_of_Casualties                             0\n",
       "Date                                             0\n",
       "Day_of_Week                                      0\n",
       "Time                                            14\n",
       "Local_Authority_(District)                       0\n",
       "Local_Authority_(Highway)                        0\n",
       "1st_Road_Class                                   0\n",
       "1st_Road_Number                                  0\n",
       "Road_Type                                        0\n",
       "Speed_limit                                      0\n",
       "2nd_Road_Class                                   0\n",
       "2nd_Road_Number                                  0\n",
       "Pedestrian_Crossing-Human_Control                0\n",
       "Pedestrian_Crossing-Physical_Facilities          0\n",
       "Light_Conditions                                 0\n",
       "Weather_Conditions                               0\n",
       "Road_Surface_Conditions                        452\n",
       "Special_Conditions_at_Site                      63\n",
       "Carriageway_Hazards                              0\n",
       "Urban_or_Rural_Area                              0\n",
       "Did_Police_Officer_Attend_Scene_of_Accident      0\n",
       "state                                            0\n",
       "postcode                                         0\n",
       "country                                          0\n",
       "dtype: int64"
      ]
     },
     "execution_count": 6,
     "metadata": {},
     "output_type": "execute_result"
    }
   ],
   "source": [
    "data.isnull().sum() # we see the number of null values for each feature."
   ]
  },
  {
   "cell_type": "markdown",
   "id": "151b379a",
   "metadata": {},
   "source": [
    "- Null values are present for **Time, Road_Surface_Conditions and Special_Conditions_at_Site**.\n",
    "- Let's handle these first."
   ]
  },
  {
   "cell_type": "markdown",
   "id": "27e9df3f",
   "metadata": {},
   "source": [
    "# Handling Missing Values:"
   ]
  },
  {
   "cell_type": "markdown",
   "id": "1beeea53",
   "metadata": {},
   "source": [
    "# Road_Surface_Conditions"
   ]
  },
  {
   "cell_type": "code",
   "execution_count": 7,
   "id": "98bc4939",
   "metadata": {},
   "outputs": [
    {
     "data": {
      "text/plain": [
       "Dry                          365843\n",
       "Wet/Damp                      87570\n",
       "Frost/Ice                     16172\n",
       "Snow                           8613\n",
       "Flood (Over 3cm of water)        91\n",
       "Name: Road_Surface_Conditions, dtype: int64"
      ]
     },
     "execution_count": 7,
     "metadata": {},
     "output_type": "execute_result"
    }
   ],
   "source": [
    "data['Road_Surface_Conditions'].value_counts() # here we get an idea of most occuring categorical variable"
   ]
  },
  {
   "cell_type": "code",
   "execution_count": 8,
   "id": "ed87fcfe",
   "metadata": {},
   "outputs": [
    {
     "name": "stdout",
     "output_type": "stream",
     "text": [
      "Null values before filling : 452\n"
     ]
    }
   ],
   "source": [
    "print(\"Null values before filling :\",data['Road_Surface_Conditions'].isnull().sum())"
   ]
  },
  {
   "cell_type": "code",
   "execution_count": 9,
   "id": "fa265932",
   "metadata": {},
   "outputs": [],
   "source": [
    "data['Road_Surface_Conditions'].fillna(\"Dry\", inplace = True) # filling the null values with most occuring variable"
   ]
  },
  {
   "cell_type": "code",
   "execution_count": 10,
   "id": "260af4f0",
   "metadata": {},
   "outputs": [
    {
     "name": "stdout",
     "output_type": "stream",
     "text": [
      "Null values after filling : 0\n"
     ]
    }
   ],
   "source": [
    "print(\"Null values after filling :\",data['Road_Surface_Conditions'].isnull().sum())"
   ]
  },
  {
   "cell_type": "markdown",
   "id": "b72c50ce",
   "metadata": {},
   "source": [
    "# Special_Conditions_at_Site"
   ]
  },
  {
   "cell_type": "code",
   "execution_count": 11,
   "id": "0e0176c7",
   "metadata": {},
   "outputs": [
    {
     "data": {
      "text/plain": [
       "None                                               427839\n",
       "Roadworks                                           45252\n",
       "Ol or diesel                                         1371\n",
       "Road surface defective                               1289\n",
       "Mud                                                  1104\n",
       "Auto traffic singal out                               885\n",
       "Permanent sign or marking defective or obscured       660\n",
       "Auto traffic signal partly defective                  278\n",
       "Name: Special_Conditions_at_Site, dtype: int64"
      ]
     },
     "execution_count": 11,
     "metadata": {},
     "output_type": "execute_result"
    }
   ],
   "source": [
    "scs = data[\"Special_Conditions_at_Site\"].value_counts()\n",
    "scs"
   ]
  },
  {
   "cell_type": "code",
   "execution_count": 12,
   "id": "57401394",
   "metadata": {},
   "outputs": [
    {
     "name": "stdout",
     "output_type": "stream",
     "text": [
      "Null values before filling : 63\n"
     ]
    }
   ],
   "source": [
    "print(\"Null values before filling :\",data[\"Special_Conditions_at_Site\"].isnull().sum())"
   ]
  },
  {
   "cell_type": "code",
   "execution_count": 13,
   "id": "978d5c7d",
   "metadata": {},
   "outputs": [
    {
     "name": "stdout",
     "output_type": "stream",
     "text": [
      "None category covers 89.37% here.\n"
     ]
    }
   ],
   "source": [
    "print(\"None category covers {}% here.\".format(round(100*(scs)[0]/data.shape[0],2)))"
   ]
  },
  {
   "cell_type": "markdown",
   "id": "5b9b3a24",
   "metadata": {},
   "source": [
    "- Converting this \"None\" to \"Normal\". \n",
    "- As, None special condition could mean that the condition at site is normal.\n",
    "- Hence, we won't drop these column but actually use the \"Normal\" instead of \"None\" and fill the missing values with \"Normal\".\n"
   ]
  },
  {
   "cell_type": "code",
   "execution_count": 14,
   "id": "35d9ee88",
   "metadata": {},
   "outputs": [],
   "source": [
    "# filling the missing values with \"None\"\n",
    "data['Special_Conditions_at_Site'].fillna(\"None\", inplace = True)"
   ]
  },
  {
   "cell_type": "code",
   "execution_count": 15,
   "id": "19b1b980",
   "metadata": {},
   "outputs": [
    {
     "name": "stdout",
     "output_type": "stream",
     "text": [
      "Null values after filling : 0\n"
     ]
    }
   ],
   "source": [
    "print(\"Null values after filling :\",data[\"Special_Conditions_at_Site\"].isnull().sum())"
   ]
  },
  {
   "cell_type": "code",
   "execution_count": 16,
   "id": "d1c02d9e",
   "metadata": {},
   "outputs": [],
   "source": [
    "# Replacing the \"None\" category with \"Normal\" for better interpretation\n",
    "data[\"Special_Conditions_at_Site\"].replace(to_replace =\"None\", value =\"Normal\", inplace = True)"
   ]
  },
  {
   "cell_type": "code",
   "execution_count": 17,
   "id": "c8e353d8",
   "metadata": {},
   "outputs": [
    {
     "data": {
      "text/plain": [
       "Normal                                             427902\n",
       "Roadworks                                           45252\n",
       "Ol or diesel                                         1371\n",
       "Road surface defective                               1289\n",
       "Mud                                                  1104\n",
       "Auto traffic singal out                               885\n",
       "Permanent sign or marking defective or obscured       660\n",
       "Auto traffic signal partly defective                  278\n",
       "Name: Special_Conditions_at_Site, dtype: int64"
      ]
     },
     "execution_count": 17,
     "metadata": {},
     "output_type": "execute_result"
    }
   ],
   "source": [
    "scs_new = data[\"Special_Conditions_at_Site\"].value_counts()\n",
    "scs_new"
   ]
  },
  {
   "cell_type": "markdown",
   "id": "2ba6dfc9",
   "metadata": {},
   "source": [
    "# Country:"
   ]
  },
  {
   "cell_type": "code",
   "execution_count": 18,
   "id": "23b3a447",
   "metadata": {},
   "outputs": [
    {
     "data": {
      "text/plain": [
       "United Kingdom    478741\n",
       "Name: country, dtype: int64"
      ]
     },
     "execution_count": 18,
     "metadata": {},
     "output_type": "execute_result"
    }
   ],
   "source": [
    "data[\"country\"].value_counts()"
   ]
  },
  {
   "cell_type": "markdown",
   "id": "96f76e3b",
   "metadata": {},
   "source": [
    "- We will drop this column as there is 0 variance.\n"
   ]
  },
  {
   "cell_type": "markdown",
   "id": "70258865",
   "metadata": {},
   "source": [
    "# Features related to Time:"
   ]
  },
  {
   "cell_type": "markdown",
   "id": "1842057b",
   "metadata": {},
   "source": [
    "# Date"
   ]
  },
  {
   "cell_type": "code",
   "execution_count": 19,
   "id": "cf70b2e3",
   "metadata": {},
   "outputs": [
    {
     "name": "stdout",
     "output_type": "stream",
     "text": [
      "<class 'pandas.core.series.Series'>\n",
      "RangeIndex: 478741 entries, 0 to 478740\n",
      "Series name: Date\n",
      "Non-Null Count   Dtype \n",
      "--------------   ----- \n",
      "478741 non-null  object\n",
      "dtypes: object(1)\n",
      "memory usage: 3.7+ MB\n"
     ]
    }
   ],
   "source": [
    "data[\"Date\"].info()"
   ]
  },
  {
   "cell_type": "markdown",
   "id": "6fb94a1c",
   "metadata": {},
   "source": [
    "- The date here is a string, we have to convert it into datetime object.\n",
    "- Extract **Day and Month** from above."
   ]
  },
  {
   "cell_type": "code",
   "execution_count": 20,
   "id": "50ac32bb",
   "metadata": {},
   "outputs": [],
   "source": [
    "data['Date'] = data['Date'].astype('datetime64[ns]') # converting to date time object"
   ]
  },
  {
   "cell_type": "code",
   "execution_count": 21,
   "id": "532ed0a0",
   "metadata": {},
   "outputs": [
    {
     "name": "stdout",
     "output_type": "stream",
     "text": [
      "<class 'pandas.core.series.Series'>\n",
      "RangeIndex: 478741 entries, 0 to 478740\n",
      "Series name: Date\n",
      "Non-Null Count   Dtype         \n",
      "--------------   -----         \n",
      "478741 non-null  datetime64[ns]\n",
      "dtypes: datetime64[ns](1)\n",
      "memory usage: 3.7 MB\n"
     ]
    }
   ],
   "source": [
    "data['Date'].info() # we can see that the object type has changed now."
   ]
  },
  {
   "cell_type": "code",
   "execution_count": 22,
   "id": "28dabcff",
   "metadata": {},
   "outputs": [],
   "source": [
    "data[\"Month\"] = pd.DatetimeIndex(data[\"Date\"]).month # extract month from date"
   ]
  },
  {
   "cell_type": "code",
   "execution_count": 23,
   "id": "99821507",
   "metadata": {},
   "outputs": [],
   "source": [
    "data[\"Day\"] = pd.DatetimeIndex(data[\"Date\"]).day # extract day from date"
   ]
  },
  {
   "cell_type": "code",
   "execution_count": 24,
   "id": "55b29a47",
   "metadata": {},
   "outputs": [
    {
     "data": {
      "text/html": [
       "<div>\n",
       "<style scoped>\n",
       "    .dataframe tbody tr th:only-of-type {\n",
       "        vertical-align: middle;\n",
       "    }\n",
       "\n",
       "    .dataframe tbody tr th {\n",
       "        vertical-align: top;\n",
       "    }\n",
       "\n",
       "    .dataframe thead th {\n",
       "        text-align: right;\n",
       "    }\n",
       "</style>\n",
       "<table border=\"1\" class=\"dataframe\">\n",
       "  <thead>\n",
       "    <tr style=\"text-align: right;\">\n",
       "      <th></th>\n",
       "      <th>Date</th>\n",
       "      <th>Month</th>\n",
       "      <th>Day</th>\n",
       "    </tr>\n",
       "  </thead>\n",
       "  <tbody>\n",
       "    <tr>\n",
       "      <th>0</th>\n",
       "      <td>2012-12-19</td>\n",
       "      <td>12</td>\n",
       "      <td>19</td>\n",
       "    </tr>\n",
       "    <tr>\n",
       "      <th>1</th>\n",
       "      <td>2012-02-11</td>\n",
       "      <td>2</td>\n",
       "      <td>11</td>\n",
       "    </tr>\n",
       "    <tr>\n",
       "      <th>2</th>\n",
       "      <td>2012-02-11</td>\n",
       "      <td>2</td>\n",
       "      <td>11</td>\n",
       "    </tr>\n",
       "    <tr>\n",
       "      <th>3</th>\n",
       "      <td>2012-06-05</td>\n",
       "      <td>6</td>\n",
       "      <td>5</td>\n",
       "    </tr>\n",
       "    <tr>\n",
       "      <th>4</th>\n",
       "      <td>2012-06-30</td>\n",
       "      <td>6</td>\n",
       "      <td>30</td>\n",
       "    </tr>\n",
       "    <tr>\n",
       "      <th>5</th>\n",
       "      <td>2012-04-03</td>\n",
       "      <td>4</td>\n",
       "      <td>3</td>\n",
       "    </tr>\n",
       "    <tr>\n",
       "      <th>6</th>\n",
       "      <td>2012-11-04</td>\n",
       "      <td>11</td>\n",
       "      <td>4</td>\n",
       "    </tr>\n",
       "    <tr>\n",
       "      <th>7</th>\n",
       "      <td>2012-06-06</td>\n",
       "      <td>6</td>\n",
       "      <td>6</td>\n",
       "    </tr>\n",
       "    <tr>\n",
       "      <th>8</th>\n",
       "      <td>2012-03-27</td>\n",
       "      <td>3</td>\n",
       "      <td>27</td>\n",
       "    </tr>\n",
       "    <tr>\n",
       "      <th>9</th>\n",
       "      <td>2012-09-13</td>\n",
       "      <td>9</td>\n",
       "      <td>13</td>\n",
       "    </tr>\n",
       "  </tbody>\n",
       "</table>\n",
       "</div>"
      ],
      "text/plain": [
       "        Date  Month  Day\n",
       "0 2012-12-19     12   19\n",
       "1 2012-02-11      2   11\n",
       "2 2012-02-11      2   11\n",
       "3 2012-06-05      6    5\n",
       "4 2012-06-30      6   30\n",
       "5 2012-04-03      4    3\n",
       "6 2012-11-04     11    4\n",
       "7 2012-06-06      6    6\n",
       "8 2012-03-27      3   27\n",
       "9 2012-09-13      9   13"
      ]
     },
     "execution_count": 24,
     "metadata": {},
     "output_type": "execute_result"
    }
   ],
   "source": [
    "data[[\"Date\",\"Month\",\"Day\"]].head(10) # we see the extracted new columns below"
   ]
  },
  {
   "cell_type": "code",
   "execution_count": 25,
   "id": "c8391200",
   "metadata": {},
   "outputs": [
    {
     "data": {
      "text/plain": [
       "14"
      ]
     },
     "execution_count": 25,
     "metadata": {},
     "output_type": "execute_result"
    }
   ],
   "source": [
    "data['Time'].isnull().sum() # checking the null values"
   ]
  },
  {
   "cell_type": "code",
   "execution_count": 26,
   "id": "38fc018b",
   "metadata": {},
   "outputs": [
    {
     "data": {
      "text/html": [
       "<div>\n",
       "<style scoped>\n",
       "    .dataframe tbody tr th:only-of-type {\n",
       "        vertical-align: middle;\n",
       "    }\n",
       "\n",
       "    .dataframe tbody tr th {\n",
       "        vertical-align: top;\n",
       "    }\n",
       "\n",
       "    .dataframe thead th {\n",
       "        text-align: right;\n",
       "    }\n",
       "</style>\n",
       "<table border=\"1\" class=\"dataframe\">\n",
       "  <thead>\n",
       "    <tr style=\"text-align: right;\">\n",
       "      <th></th>\n",
       "      <th>Accident_ID</th>\n",
       "      <th>Police_Force</th>\n",
       "      <th>Number_of_Vehicles</th>\n",
       "      <th>Number_of_Casualties</th>\n",
       "      <th>Date</th>\n",
       "      <th>Day_of_Week</th>\n",
       "      <th>Time</th>\n",
       "      <th>Local_Authority_(District)</th>\n",
       "      <th>Local_Authority_(Highway)</th>\n",
       "      <th>1st_Road_Class</th>\n",
       "      <th>...</th>\n",
       "      <th>Road_Surface_Conditions</th>\n",
       "      <th>Special_Conditions_at_Site</th>\n",
       "      <th>Carriageway_Hazards</th>\n",
       "      <th>Urban_or_Rural_Area</th>\n",
       "      <th>Did_Police_Officer_Attend_Scene_of_Accident</th>\n",
       "      <th>state</th>\n",
       "      <th>postcode</th>\n",
       "      <th>country</th>\n",
       "      <th>Month</th>\n",
       "      <th>Day</th>\n",
       "    </tr>\n",
       "  </thead>\n",
       "  <tbody>\n",
       "    <tr>\n",
       "      <th>51512</th>\n",
       "      <td>64438</td>\n",
       "      <td>42</td>\n",
       "      <td>2</td>\n",
       "      <td>2</td>\n",
       "      <td>2012-07-28</td>\n",
       "      <td>6</td>\n",
       "      <td>NaN</td>\n",
       "      <td>504</td>\n",
       "      <td>E06000049</td>\n",
       "      <td>4</td>\n",
       "      <td>...</td>\n",
       "      <td>Dry</td>\n",
       "      <td>Normal</td>\n",
       "      <td>None</td>\n",
       "      <td>2</td>\n",
       "      <td>Yes</td>\n",
       "      <td>England</td>\n",
       "      <td>ST17 0NY</td>\n",
       "      <td>United Kingdom</td>\n",
       "      <td>7</td>\n",
       "      <td>28</td>\n",
       "    </tr>\n",
       "    <tr>\n",
       "      <th>61523</th>\n",
       "      <td>76925</td>\n",
       "      <td>51</td>\n",
       "      <td>2</td>\n",
       "      <td>1</td>\n",
       "      <td>2012-06-02</td>\n",
       "      <td>5</td>\n",
       "      <td>NaN</td>\n",
       "      <td>716</td>\n",
       "      <td>E06000003</td>\n",
       "      <td>3</td>\n",
       "      <td>...</td>\n",
       "      <td>Wet/Damp</td>\n",
       "      <td>Roadworks</td>\n",
       "      <td>None</td>\n",
       "      <td>1</td>\n",
       "      <td>Yes</td>\n",
       "      <td>Cymru / Wales</td>\n",
       "      <td>LN11 8UJ</td>\n",
       "      <td>United Kingdom</td>\n",
       "      <td>6</td>\n",
       "      <td>2</td>\n",
       "    </tr>\n",
       "    <tr>\n",
       "      <th>72250</th>\n",
       "      <td>90446</td>\n",
       "      <td>5</td>\n",
       "      <td>1</td>\n",
       "      <td>1</td>\n",
       "      <td>2012-01-17</td>\n",
       "      <td>6</td>\n",
       "      <td>NaN</td>\n",
       "      <td>94</td>\n",
       "      <td>E06000029</td>\n",
       "      <td>6</td>\n",
       "      <td>...</td>\n",
       "      <td>Dry</td>\n",
       "      <td>Normal</td>\n",
       "      <td>None</td>\n",
       "      <td>1</td>\n",
       "      <td>Yes</td>\n",
       "      <td>England</td>\n",
       "      <td>LE10 2DN</td>\n",
       "      <td>United Kingdom</td>\n",
       "      <td>1</td>\n",
       "      <td>17</td>\n",
       "    </tr>\n",
       "    <tr>\n",
       "      <th>151076</th>\n",
       "      <td>189104</td>\n",
       "      <td>21</td>\n",
       "      <td>1</td>\n",
       "      <td>2</td>\n",
       "      <td>2012-04-02</td>\n",
       "      <td>7</td>\n",
       "      <td>NaN</td>\n",
       "      <td>287</td>\n",
       "      <td>E10000028</td>\n",
       "      <td>3</td>\n",
       "      <td>...</td>\n",
       "      <td>Dry</td>\n",
       "      <td>Normal</td>\n",
       "      <td>None</td>\n",
       "      <td>2</td>\n",
       "      <td>Yes</td>\n",
       "      <td>England</td>\n",
       "      <td>WS11 1HE</td>\n",
       "      <td>United Kingdom</td>\n",
       "      <td>4</td>\n",
       "      <td>2</td>\n",
       "    </tr>\n",
       "    <tr>\n",
       "      <th>152575</th>\n",
       "      <td>190977</td>\n",
       "      <td>61</td>\n",
       "      <td>2</td>\n",
       "      <td>1</td>\n",
       "      <td>2012-03-11</td>\n",
       "      <td>5</td>\n",
       "      <td>NaN</td>\n",
       "      <td>683</td>\n",
       "      <td>E06000038</td>\n",
       "      <td>6</td>\n",
       "      <td>...</td>\n",
       "      <td>Dry</td>\n",
       "      <td>Normal</td>\n",
       "      <td>None</td>\n",
       "      <td>1</td>\n",
       "      <td>Yes</td>\n",
       "      <td>Cymru / Wales</td>\n",
       "      <td>NR10 4DT</td>\n",
       "      <td>United Kingdom</td>\n",
       "      <td>3</td>\n",
       "      <td>11</td>\n",
       "    </tr>\n",
       "    <tr>\n",
       "      <th>160861</th>\n",
       "      <td>201372</td>\n",
       "      <td>1</td>\n",
       "      <td>2</td>\n",
       "      <td>1</td>\n",
       "      <td>2012-04-09</td>\n",
       "      <td>6</td>\n",
       "      <td>NaN</td>\n",
       "      <td>23</td>\n",
       "      <td>E06000014</td>\n",
       "      <td>6</td>\n",
       "      <td>...</td>\n",
       "      <td>Dry</td>\n",
       "      <td>Normal</td>\n",
       "      <td>None</td>\n",
       "      <td>1</td>\n",
       "      <td>Yes</td>\n",
       "      <td>England</td>\n",
       "      <td>PR25 3BF</td>\n",
       "      <td>United Kingdom</td>\n",
       "      <td>4</td>\n",
       "      <td>9</td>\n",
       "    </tr>\n",
       "    <tr>\n",
       "      <th>209845</th>\n",
       "      <td>262812</td>\n",
       "      <td>21</td>\n",
       "      <td>2</td>\n",
       "      <td>2</td>\n",
       "      <td>2012-09-04</td>\n",
       "      <td>7</td>\n",
       "      <td>NaN</td>\n",
       "      <td>362</td>\n",
       "      <td>W06000016</td>\n",
       "      <td>6</td>\n",
       "      <td>...</td>\n",
       "      <td>Dry</td>\n",
       "      <td>Normal</td>\n",
       "      <td>None</td>\n",
       "      <td>1</td>\n",
       "      <td>No</td>\n",
       "      <td>England</td>\n",
       "      <td>HG2 7DD</td>\n",
       "      <td>United Kingdom</td>\n",
       "      <td>9</td>\n",
       "      <td>4</td>\n",
       "    </tr>\n",
       "    <tr>\n",
       "      <th>223830</th>\n",
       "      <td>280336</td>\n",
       "      <td>21</td>\n",
       "      <td>2</td>\n",
       "      <td>1</td>\n",
       "      <td>2012-11-13</td>\n",
       "      <td>3</td>\n",
       "      <td>NaN</td>\n",
       "      <td>221</td>\n",
       "      <td>E10000029</td>\n",
       "      <td>3</td>\n",
       "      <td>...</td>\n",
       "      <td>Frost/Ice</td>\n",
       "      <td>Normal</td>\n",
       "      <td>None</td>\n",
       "      <td>2</td>\n",
       "      <td>Yes</td>\n",
       "      <td>England</td>\n",
       "      <td>RG45 7HF</td>\n",
       "      <td>United Kingdom</td>\n",
       "      <td>11</td>\n",
       "      <td>13</td>\n",
       "    </tr>\n",
       "    <tr>\n",
       "      <th>314698</th>\n",
       "      <td>394275</td>\n",
       "      <td>95</td>\n",
       "      <td>3</td>\n",
       "      <td>1</td>\n",
       "      <td>2012-03-02</td>\n",
       "      <td>5</td>\n",
       "      <td>NaN</td>\n",
       "      <td>941</td>\n",
       "      <td>E06000017</td>\n",
       "      <td>6</td>\n",
       "      <td>...</td>\n",
       "      <td>Dry</td>\n",
       "      <td>Normal</td>\n",
       "      <td>None</td>\n",
       "      <td>1</td>\n",
       "      <td>Yes</td>\n",
       "      <td>Alba / Scotland</td>\n",
       "      <td>NR11 6PJ</td>\n",
       "      <td>United Kingdom</td>\n",
       "      <td>3</td>\n",
       "      <td>2</td>\n",
       "    </tr>\n",
       "    <tr>\n",
       "      <th>323568</th>\n",
       "      <td>405453</td>\n",
       "      <td>21</td>\n",
       "      <td>4</td>\n",
       "      <td>1</td>\n",
       "      <td>2012-07-20</td>\n",
       "      <td>3</td>\n",
       "      <td>NaN</td>\n",
       "      <td>137</td>\n",
       "      <td>E06000050</td>\n",
       "      <td>3</td>\n",
       "      <td>...</td>\n",
       "      <td>Frost/Ice</td>\n",
       "      <td>Normal</td>\n",
       "      <td>None</td>\n",
       "      <td>2</td>\n",
       "      <td>Yes</td>\n",
       "      <td>Alba / Scotland</td>\n",
       "      <td>WA6 8LE</td>\n",
       "      <td>United Kingdom</td>\n",
       "      <td>7</td>\n",
       "      <td>20</td>\n",
       "    </tr>\n",
       "    <tr>\n",
       "      <th>328916</th>\n",
       "      <td>412114</td>\n",
       "      <td>1</td>\n",
       "      <td>2</td>\n",
       "      <td>1</td>\n",
       "      <td>2012-12-30</td>\n",
       "      <td>4</td>\n",
       "      <td>NaN</td>\n",
       "      <td>12</td>\n",
       "      <td>E06000039</td>\n",
       "      <td>6</td>\n",
       "      <td>...</td>\n",
       "      <td>Dry</td>\n",
       "      <td>Normal</td>\n",
       "      <td>None</td>\n",
       "      <td>1</td>\n",
       "      <td>Yes</td>\n",
       "      <td>England</td>\n",
       "      <td>TQ4 7DQ</td>\n",
       "      <td>United Kingdom</td>\n",
       "      <td>12</td>\n",
       "      <td>30</td>\n",
       "    </tr>\n",
       "    <tr>\n",
       "      <th>332558</th>\n",
       "      <td>416732</td>\n",
       "      <td>1</td>\n",
       "      <td>2</td>\n",
       "      <td>2</td>\n",
       "      <td>2012-11-14</td>\n",
       "      <td>2</td>\n",
       "      <td>NaN</td>\n",
       "      <td>11</td>\n",
       "      <td>E06000016</td>\n",
       "      <td>3</td>\n",
       "      <td>...</td>\n",
       "      <td>Dry</td>\n",
       "      <td>Normal</td>\n",
       "      <td>None</td>\n",
       "      <td>1</td>\n",
       "      <td>Yes</td>\n",
       "      <td>England</td>\n",
       "      <td>WF4 1LR</td>\n",
       "      <td>United Kingdom</td>\n",
       "      <td>11</td>\n",
       "      <td>14</td>\n",
       "    </tr>\n",
       "    <tr>\n",
       "      <th>420430</th>\n",
       "      <td>526997</td>\n",
       "      <td>52</td>\n",
       "      <td>2</td>\n",
       "      <td>3</td>\n",
       "      <td>2012-08-11</td>\n",
       "      <td>4</td>\n",
       "      <td>NaN</td>\n",
       "      <td>513</td>\n",
       "      <td>E10000023</td>\n",
       "      <td>5</td>\n",
       "      <td>...</td>\n",
       "      <td>Dry</td>\n",
       "      <td>Normal</td>\n",
       "      <td>None</td>\n",
       "      <td>2</td>\n",
       "      <td>Yes</td>\n",
       "      <td>England</td>\n",
       "      <td>N18 3QU</td>\n",
       "      <td>United Kingdom</td>\n",
       "      <td>8</td>\n",
       "      <td>11</td>\n",
       "    </tr>\n",
       "    <tr>\n",
       "      <th>430695</th>\n",
       "      <td>539778</td>\n",
       "      <td>51</td>\n",
       "      <td>2</td>\n",
       "      <td>2</td>\n",
       "      <td>2012-04-04</td>\n",
       "      <td>5</td>\n",
       "      <td>NaN</td>\n",
       "      <td>587</td>\n",
       "      <td>E10000030</td>\n",
       "      <td>4</td>\n",
       "      <td>...</td>\n",
       "      <td>Dry</td>\n",
       "      <td>Normal</td>\n",
       "      <td>None</td>\n",
       "      <td>1</td>\n",
       "      <td>No</td>\n",
       "      <td>England</td>\n",
       "      <td>CH1 5EU</td>\n",
       "      <td>United Kingdom</td>\n",
       "      <td>4</td>\n",
       "      <td>4</td>\n",
       "    </tr>\n",
       "  </tbody>\n",
       "</table>\n",
       "<p>14 rows × 29 columns</p>\n",
       "</div>"
      ],
      "text/plain": [
       "        Accident_ID  Police_Force  Number_of_Vehicles  Number_of_Casualties  \\\n",
       "51512         64438            42                   2                     2   \n",
       "61523         76925            51                   2                     1   \n",
       "72250         90446             5                   1                     1   \n",
       "151076       189104            21                   1                     2   \n",
       "152575       190977            61                   2                     1   \n",
       "160861       201372             1                   2                     1   \n",
       "209845       262812            21                   2                     2   \n",
       "223830       280336            21                   2                     1   \n",
       "314698       394275            95                   3                     1   \n",
       "323568       405453            21                   4                     1   \n",
       "328916       412114             1                   2                     1   \n",
       "332558       416732             1                   2                     2   \n",
       "420430       526997            52                   2                     3   \n",
       "430695       539778            51                   2                     2   \n",
       "\n",
       "             Date  Day_of_Week Time  Local_Authority_(District)  \\\n",
       "51512  2012-07-28            6  NaN                         504   \n",
       "61523  2012-06-02            5  NaN                         716   \n",
       "72250  2012-01-17            6  NaN                          94   \n",
       "151076 2012-04-02            7  NaN                         287   \n",
       "152575 2012-03-11            5  NaN                         683   \n",
       "160861 2012-04-09            6  NaN                          23   \n",
       "209845 2012-09-04            7  NaN                         362   \n",
       "223830 2012-11-13            3  NaN                         221   \n",
       "314698 2012-03-02            5  NaN                         941   \n",
       "323568 2012-07-20            3  NaN                         137   \n",
       "328916 2012-12-30            4  NaN                          12   \n",
       "332558 2012-11-14            2  NaN                          11   \n",
       "420430 2012-08-11            4  NaN                         513   \n",
       "430695 2012-04-04            5  NaN                         587   \n",
       "\n",
       "       Local_Authority_(Highway)  1st_Road_Class  ...  \\\n",
       "51512                  E06000049               4  ...   \n",
       "61523                  E06000003               3  ...   \n",
       "72250                  E06000029               6  ...   \n",
       "151076                 E10000028               3  ...   \n",
       "152575                 E06000038               6  ...   \n",
       "160861                 E06000014               6  ...   \n",
       "209845                 W06000016               6  ...   \n",
       "223830                 E10000029               3  ...   \n",
       "314698                 E06000017               6  ...   \n",
       "323568                 E06000050               3  ...   \n",
       "328916                 E06000039               6  ...   \n",
       "332558                 E06000016               3  ...   \n",
       "420430                 E10000023               5  ...   \n",
       "430695                 E10000030               4  ...   \n",
       "\n",
       "        Road_Surface_Conditions Special_Conditions_at_Site  \\\n",
       "51512                       Dry                     Normal   \n",
       "61523                  Wet/Damp                  Roadworks   \n",
       "72250                       Dry                     Normal   \n",
       "151076                      Dry                     Normal   \n",
       "152575                      Dry                     Normal   \n",
       "160861                      Dry                     Normal   \n",
       "209845                      Dry                     Normal   \n",
       "223830                Frost/Ice                     Normal   \n",
       "314698                      Dry                     Normal   \n",
       "323568                Frost/Ice                     Normal   \n",
       "328916                      Dry                     Normal   \n",
       "332558                      Dry                     Normal   \n",
       "420430                      Dry                     Normal   \n",
       "430695                      Dry                     Normal   \n",
       "\n",
       "        Carriageway_Hazards  Urban_or_Rural_Area  \\\n",
       "51512                  None                    2   \n",
       "61523                  None                    1   \n",
       "72250                  None                    1   \n",
       "151076                 None                    2   \n",
       "152575                 None                    1   \n",
       "160861                 None                    1   \n",
       "209845                 None                    1   \n",
       "223830                 None                    2   \n",
       "314698                 None                    1   \n",
       "323568                 None                    2   \n",
       "328916                 None                    1   \n",
       "332558                 None                    1   \n",
       "420430                 None                    2   \n",
       "430695                 None                    1   \n",
       "\n",
       "        Did_Police_Officer_Attend_Scene_of_Accident            state  \\\n",
       "51512                                           Yes          England   \n",
       "61523                                           Yes    Cymru / Wales   \n",
       "72250                                           Yes          England   \n",
       "151076                                          Yes          England   \n",
       "152575                                          Yes    Cymru / Wales   \n",
       "160861                                          Yes          England   \n",
       "209845                                           No          England   \n",
       "223830                                          Yes          England   \n",
       "314698                                          Yes  Alba / Scotland   \n",
       "323568                                          Yes  Alba / Scotland   \n",
       "328916                                          Yes          England   \n",
       "332558                                          Yes          England   \n",
       "420430                                          Yes          England   \n",
       "430695                                           No          England   \n",
       "\n",
       "        postcode         country Month Day  \n",
       "51512   ST17 0NY  United Kingdom     7  28  \n",
       "61523   LN11 8UJ  United Kingdom     6   2  \n",
       "72250   LE10 2DN  United Kingdom     1  17  \n",
       "151076  WS11 1HE  United Kingdom     4   2  \n",
       "152575  NR10 4DT  United Kingdom     3  11  \n",
       "160861  PR25 3BF  United Kingdom     4   9  \n",
       "209845   HG2 7DD  United Kingdom     9   4  \n",
       "223830  RG45 7HF  United Kingdom    11  13  \n",
       "314698  NR11 6PJ  United Kingdom     3   2  \n",
       "323568   WA6 8LE  United Kingdom     7  20  \n",
       "328916   TQ4 7DQ  United Kingdom    12  30  \n",
       "332558   WF4 1LR  United Kingdom    11  14  \n",
       "420430   N18 3QU  United Kingdom     8  11  \n",
       "430695   CH1 5EU  United Kingdom     4   4  \n",
       "\n",
       "[14 rows x 29 columns]"
      ]
     },
     "execution_count": 26,
     "metadata": {},
     "output_type": "execute_result"
    }
   ],
   "source": [
    "# below we see all the Nan values for Time\n",
    "null = data[data.isnull().any(1)]\n",
    "null"
   ]
  },
  {
   "cell_type": "code",
   "execution_count": 27,
   "id": "4a0de7fc",
   "metadata": {},
   "outputs": [],
   "source": [
    "data.dropna(inplace = True) # dropping all the Nan values"
   ]
  },
  {
   "cell_type": "code",
   "execution_count": 28,
   "id": "53c98852",
   "metadata": {},
   "outputs": [
    {
     "data": {
      "text/plain": [
       "(478727, 29)"
      ]
     },
     "execution_count": 28,
     "metadata": {},
     "output_type": "execute_result"
    }
   ],
   "source": [
    "data.shape"
   ]
  },
  {
   "cell_type": "markdown",
   "id": "51d37f29",
   "metadata": {},
   "source": [
    "# Time"
   ]
  },
  {
   "cell_type": "markdown",
   "id": "b768d0a7",
   "metadata": {},
   "source": [
    "- Converting the time to **Morning, Afternoon, Evening, Night**"
   ]
  },
  {
   "cell_type": "code",
   "execution_count": 29,
   "id": "0f7cecec",
   "metadata": {},
   "outputs": [],
   "source": [
    "data['Time'] = data['Time'].astype('datetime64[ns]') # converting to date time object\n",
    "data['Time'] = pd.to_datetime(data['Time']).dt.time # extract time\n",
    "data['Time'] = data['Time'].astype(str) # converting to string for comparing the time for the required conversion"
   ]
  },
  {
   "cell_type": "code",
   "execution_count": 30,
   "id": "8ad11029",
   "metadata": {},
   "outputs": [],
   "source": [
    "# Below we divide the 24 hour format into  4 phases based on simple time comparison\n",
    "\n",
    "data.loc[(data[\"Time\"] >= '00:00:00') & (data[\"Time\"] < '05:00:00'), 'Time'] = \"Night\"\n",
    "data.loc[(data[\"Time\"] >= '05:00:00') & (data[\"Time\"] < '12:00:00'), 'Time'] = \"Morning\"\n",
    "data.loc[(data[\"Time\"] >= '12:00:00') & (data[\"Time\"] < '17:00:00'), 'Time'] = \"Afternoon\"\n",
    "data.loc[(data[\"Time\"] >= '17:00:00') & (data[\"Time\"] < '21:00:00'), 'Time'] = \"Evening\"\n",
    "data.loc[(data[\"Time\"] >= '21:00:00') & (data[\"Time\"] <= '23:59:00'), 'Time'] = \"Night\""
   ]
  },
  {
   "cell_type": "code",
   "execution_count": 31,
   "id": "d31b926c",
   "metadata": {},
   "outputs": [
    {
     "data": {
      "text/html": [
       "<div>\n",
       "<style scoped>\n",
       "    .dataframe tbody tr th:only-of-type {\n",
       "        vertical-align: middle;\n",
       "    }\n",
       "\n",
       "    .dataframe tbody tr th {\n",
       "        vertical-align: top;\n",
       "    }\n",
       "\n",
       "    .dataframe thead th {\n",
       "        text-align: right;\n",
       "    }\n",
       "</style>\n",
       "<table border=\"1\" class=\"dataframe\">\n",
       "  <thead>\n",
       "    <tr style=\"text-align: right;\">\n",
       "      <th></th>\n",
       "      <th>Date</th>\n",
       "      <th>Time</th>\n",
       "    </tr>\n",
       "  </thead>\n",
       "  <tbody>\n",
       "    <tr>\n",
       "      <th>0</th>\n",
       "      <td>2012-12-19</td>\n",
       "      <td>Afternoon</td>\n",
       "    </tr>\n",
       "    <tr>\n",
       "      <th>1</th>\n",
       "      <td>2012-02-11</td>\n",
       "      <td>Morning</td>\n",
       "    </tr>\n",
       "    <tr>\n",
       "      <th>2</th>\n",
       "      <td>2012-02-11</td>\n",
       "      <td>Afternoon</td>\n",
       "    </tr>\n",
       "    <tr>\n",
       "      <th>3</th>\n",
       "      <td>2012-06-05</td>\n",
       "      <td>Afternoon</td>\n",
       "    </tr>\n",
       "    <tr>\n",
       "      <th>4</th>\n",
       "      <td>2012-06-30</td>\n",
       "      <td>Afternoon</td>\n",
       "    </tr>\n",
       "    <tr>\n",
       "      <th>5</th>\n",
       "      <td>2012-04-03</td>\n",
       "      <td>Afternoon</td>\n",
       "    </tr>\n",
       "    <tr>\n",
       "      <th>6</th>\n",
       "      <td>2012-11-04</td>\n",
       "      <td>Afternoon</td>\n",
       "    </tr>\n",
       "    <tr>\n",
       "      <th>7</th>\n",
       "      <td>2012-06-06</td>\n",
       "      <td>Night</td>\n",
       "    </tr>\n",
       "    <tr>\n",
       "      <th>8</th>\n",
       "      <td>2012-03-27</td>\n",
       "      <td>Afternoon</td>\n",
       "    </tr>\n",
       "    <tr>\n",
       "      <th>9</th>\n",
       "      <td>2012-09-13</td>\n",
       "      <td>Evening</td>\n",
       "    </tr>\n",
       "  </tbody>\n",
       "</table>\n",
       "</div>"
      ],
      "text/plain": [
       "        Date       Time\n",
       "0 2012-12-19  Afternoon\n",
       "1 2012-02-11    Morning\n",
       "2 2012-02-11  Afternoon\n",
       "3 2012-06-05  Afternoon\n",
       "4 2012-06-30  Afternoon\n",
       "5 2012-04-03  Afternoon\n",
       "6 2012-11-04  Afternoon\n",
       "7 2012-06-06      Night\n",
       "8 2012-03-27  Afternoon\n",
       "9 2012-09-13    Evening"
      ]
     },
     "execution_count": 31,
     "metadata": {},
     "output_type": "execute_result"
    }
   ],
   "source": [
    "data[[\"Date\",\"Time\"]].head(10)"
   ]
  },
  {
   "cell_type": "code",
   "execution_count": 32,
   "id": "e47f3706",
   "metadata": {},
   "outputs": [
    {
     "data": {
      "text/plain": [
       "0"
      ]
     },
     "execution_count": 32,
     "metadata": {},
     "output_type": "execute_result"
    }
   ],
   "source": [
    "data[\"Time\"].isnull().sum() # no null values now for time"
   ]
  },
  {
   "cell_type": "code",
   "execution_count": 33,
   "id": "6357786d",
   "metadata": {},
   "outputs": [],
   "source": [
    "data.drop([\"Date\",\"2nd_Road_Number\",\"country\"], axis = 1 , inplace = True) # dropping the features with low variance"
   ]
  },
  {
   "cell_type": "code",
   "execution_count": 34,
   "id": "524f9c31",
   "metadata": {},
   "outputs": [
    {
     "data": {
      "text/plain": [
       "(478727, 26)"
      ]
     },
     "execution_count": 34,
     "metadata": {},
     "output_type": "execute_result"
    }
   ],
   "source": [
    "data.shape"
   ]
  },
  {
   "cell_type": "markdown",
   "id": "0e7f335f",
   "metadata": {},
   "source": [
    "# Data Visualisation:"
   ]
  },
  {
   "cell_type": "markdown",
   "id": "8293d8a8",
   "metadata": {},
   "source": [
    "# Police Force:"
   ]
  },
  {
   "cell_type": "code",
   "execution_count": 35,
   "id": "f523e8b9",
   "metadata": {},
   "outputs": [
    {
     "data": {
      "text/plain": [
       "<AxesSubplot:xlabel='Police_Force', ylabel='Density'>"
      ]
     },
     "execution_count": 35,
     "metadata": {},
     "output_type": "execute_result"
    },
    {
     "data": {
      "image/png": "[encoded data removed]",
      "text/plain": [
       "<Figure size 432x288 with 1 Axes>"
      ]
     },
     "metadata": {
      "needs_background": "light"
     },
     "output_type": "display_data"
    }
   ],
   "source": [
    "sns.kdeplot(data[\"Police_Force\"], shade =True) # to see the distribution of this continuous variable"
   ]
  },
  {
   "cell_type": "code",
   "execution_count": 36,
   "id": "bc71b314",
   "metadata": {},
   "outputs": [
    {
     "data": {
      "text/plain": [
       "<AxesSubplot:>"
      ]
     },
     "execution_count": 36,
     "metadata": {},
     "output_type": "execute_result"
    },
    {
     "data": {
      "image/png": "[encoded data removed]",
      "text/plain": [
       "<Figure size 432x288 with 1 Axes>"
      ]
     },
     "metadata": {
      "needs_background": "light"
     },
     "output_type": "display_data"
    }
   ],
   "source": [
    "sns.boxplot(data = data[\"Police_Force\"])"
   ]
  },
  {
   "cell_type": "markdown",
   "id": "9007c6a9",
   "metadata": {},
   "source": [
    "- Police_force > 100 are the outliers."
   ]
  },
  {
   "cell_type": "markdown",
   "id": "46d36ea5",
   "metadata": {},
   "source": [
    "# Number_of_Vehicles:"
   ]
  },
  {
   "cell_type": "code",
   "execution_count": 37,
   "id": "bb02b21d",
   "metadata": {},
   "outputs": [
    {
     "data": {
      "text/plain": [
       "2    281588\n",
       "1    163059\n",
       "3     26848\n",
       "4      7232\n",
       "Name: Number_of_Vehicles, dtype: int64"
      ]
     },
     "execution_count": 37,
     "metadata": {},
     "output_type": "execute_result"
    }
   ],
   "source": [
    "data[\"Number_of_Vehicles\"].value_counts()"
   ]
  },
  {
   "cell_type": "code",
   "execution_count": 38,
   "id": "66f07b64",
   "metadata": {},
   "outputs": [
    {
     "data": {
      "text/plain": [
       "<BarContainer object of 4 artists>"
      ]
     },
     "execution_count": 38,
     "metadata": {},
     "output_type": "execute_result"
    },
    {
     "data": {
      "image/png": "[encoded data removed]",
      "text/plain": [
       "<Figure size 432x288 with 1 Axes>"
      ]
     },
     "metadata": {
      "needs_background": "light"
     },
     "output_type": "display_data"
    }
   ],
   "source": [
    "x1 = data.groupby('Number_of_Vehicles').agg({'Number_of_Casualties': 'mean'}).reset_index()\n",
    "x = list(x1['Number_of_Vehicles'].values) # defining x axis\n",
    "y = list(x1['Number_of_Casualties'].values) # defining y axis\n",
    "plt.xlabel(\"Number of vehicles\")\n",
    "plt.ylabel(\"Number_of_Casualties\")\n",
    "plt.bar(x,y,width = 0.7)"
   ]
  },
  {
   "cell_type": "markdown",
   "id": "a355bad5",
   "metadata": {},
   "source": [
    "- As the number of vehicles increases number of casulaities also increases."
   ]
  },
  {
   "cell_type": "code",
   "execution_count": 39,
   "id": "8931193a",
   "metadata": {},
   "outputs": [
    {
     "data": {
      "text/plain": [
       "<AxesSubplot:>"
      ]
     },
     "execution_count": 39,
     "metadata": {},
     "output_type": "execute_result"
    },
    {
     "data": {
      "image/png": "[encoded data removed]",
      "text/plain": [
       "<Figure size 432x288 with 1 Axes>"
      ]
     },
     "metadata": {
      "needs_background": "light"
     },
     "output_type": "display_data"
    }
   ],
   "source": [
    "sns.boxplot(data = data[\"Number_of_Vehicles\"])"
   ]
  },
  {
   "cell_type": "markdown",
   "id": "02ca1faf",
   "metadata": {},
   "source": [
    "# Time:"
   ]
  },
  {
   "cell_type": "code",
   "execution_count": 40,
   "id": "b91d331e",
   "metadata": {},
   "outputs": [
    {
     "data": {
      "text/plain": [
       "<BarContainer object of 4 artists>"
      ]
     },
     "execution_count": 40,
     "metadata": {},
     "output_type": "execute_result"
    },
    {
     "data": {
      "image/png": "[encoded data removed]",
      "text/plain": [
       "<Figure size 432x288 with 1 Axes>"
      ]
     },
     "metadata": {
      "needs_background": "light"
     },
     "output_type": "display_data"
    }
   ],
   "source": [
    "x1 = data.groupby('Time').agg({'Number_of_Casualties': 'mean'}).reset_index()\n",
    "x = list(x1['Time'].values) # defining x axis\n",
    "y = list(x1['Number_of_Casualties'].values) # defining y axis\n",
    "plt.xlabel(\"Time\")\n",
    "plt.ylabel(\"Number_of_Casualties\")\n",
    "plt.bar(x,y,width = 0.7)"
   ]
  },
  {
   "cell_type": "markdown",
   "id": "669a2fd4",
   "metadata": {},
   "source": [
    "- Mean number of casualities is same for all 4 phases of the day."
   ]
  },
  {
   "cell_type": "markdown",
   "id": "640c6516",
   "metadata": {},
   "source": [
    "# Weather condition:"
   ]
  },
  {
   "cell_type": "code",
   "execution_count": 41,
   "id": "33fda3e6",
   "metadata": {},
   "outputs": [
    {
     "data": {
      "text/plain": [
       "<BarContainer object of 9 artists>"
      ]
     },
     "execution_count": 41,
     "metadata": {},
     "output_type": "execute_result"
    },
    {
     "data": {
      "image/png": "[encoded data removed]",
      "text/plain": [
       "<Figure size 1440x504 with 1 Axes>"
      ]
     },
     "metadata": {
      "needs_background": "light"
     },
     "output_type": "display_data"
    }
   ],
   "source": [
    "x1 = data.groupby('Weather_Conditions').agg({'Number_of_Casualties': 'mean'}).reset_index()\n",
    "x = list(x1['Weather_Conditions'].values) # defining x axis\n",
    "y = list(x1['Number_of_Casualties'].values) # defining y axis\n",
    "plt.figure(figsize=(20, 7))\n",
    "plt.xlabel(\"Weather_Conditions\")\n",
    "plt.ylabel(\"Number_of_Casualties\")\n",
    "plt.bar(x,y,width = 0.4)"
   ]
  },
  {
   "cell_type": "markdown",
   "id": "9d8883b2",
   "metadata": {},
   "source": [
    "- The above graph shows how casualities vary with different weather conditons."
   ]
  },
  {
   "cell_type": "markdown",
   "id": "ac8086a7",
   "metadata": {},
   "source": [
    "# Road type:"
   ]
  },
  {
   "cell_type": "code",
   "execution_count": 42,
   "id": "ff8fafb1",
   "metadata": {},
   "outputs": [
    {
     "data": {
      "text/plain": [
       "<BarContainer object of 6 artists>"
      ]
     },
     "execution_count": 42,
     "metadata": {},
     "output_type": "execute_result"
    },
    {
     "data": {
      "image/png": "[encoded data removed]",
      "text/plain": [
       "<Figure size 1440x504 with 1 Axes>"
      ]
     },
     "metadata": {
      "needs_background": "light"
     },
     "output_type": "display_data"
    }
   ],
   "source": [
    "x1 = data.groupby('Road_Type').agg({'Number_of_Casualties': 'mean'}).reset_index()\n",
    "x = list(x1['Road_Type'].values) # defining x axis\n",
    "y = list(x1['Number_of_Casualties'].values) # defining y axis\n",
    "plt.figure(figsize=(20, 7))\n",
    "plt.xlabel(\"Road_Type\")\n",
    "plt.ylabel(\"Number_of_Casualties\")\n",
    "plt.bar(x,y,width = 0.4)"
   ]
  },
  {
   "cell_type": "markdown",
   "id": "8cfcb90f",
   "metadata": {},
   "source": [
    "- It's suprising to see that if the road is slippery then the number of casuality is less"
   ]
  },
  {
   "cell_type": "markdown",
   "id": "199a4108",
   "metadata": {},
   "source": [
    "# Speed Limit:"
   ]
  },
  {
   "cell_type": "code",
   "execution_count": 43,
   "id": "051d0b59",
   "metadata": {},
   "outputs": [
    {
     "data": {
      "text/plain": [
       "<BarContainer object of 6 artists>"
      ]
     },
     "execution_count": 43,
     "metadata": {},
     "output_type": "execute_result"
    },
    {
     "data": {
      "image/png": "[encoded data removed]",
      "text/plain": [
       "<Figure size 720x360 with 1 Axes>"
      ]
     },
     "metadata": {
      "needs_background": "light"
     },
     "output_type": "display_data"
    }
   ],
   "source": [
    "x1 = data.groupby('Speed_limit').agg({'Number_of_Casualties': 'mean'}).reset_index()\n",
    "x = list(x1['Speed_limit'].values) # defining x axis\n",
    "y = list(x1['Number_of_Casualties'].values) # defining y axis\n",
    "plt.figure(figsize=(10, 5))\n",
    "plt.xlabel(\"Speed_limit\")\n",
    "plt.ylabel(\"Number_of_Casualties\")\n",
    "plt.bar(x,y,width = 1)"
   ]
  },
  {
   "cell_type": "markdown",
   "id": "c3155d10",
   "metadata": {},
   "source": [
    "- For a speed of 50-70, there are higher number of casualities."
   ]
  },
  {
   "cell_type": "markdown",
   "id": "8f7ef64d",
   "metadata": {},
   "source": [
    "# 1st round class:"
   ]
  },
  {
   "cell_type": "code",
   "execution_count": 44,
   "id": "6855ab10",
   "metadata": {},
   "outputs": [
    {
     "data": {
      "text/plain": [
       "<BarContainer object of 5 artists>"
      ]
     },
     "execution_count": 44,
     "metadata": {},
     "output_type": "execute_result"
    },
    {
     "data": {
      "image/png": "[encoded data removed]",
      "text/plain": [
       "<Figure size 720x360 with 1 Axes>"
      ]
     },
     "metadata": {
      "needs_background": "light"
     },
     "output_type": "display_data"
    }
   ],
   "source": [
    "x1 = data.groupby('1st_Road_Class').agg({'Number_of_Casualties': 'mean'}).reset_index()\n",
    "x = list(x1['1st_Road_Class'].values) # defining x axis\n",
    "y = list(x1['Number_of_Casualties'].values) # defining y axis\n",
    "plt.figure(figsize=(10, 5))\n",
    "plt.xlabel(\"1st_Road_Class\")\n",
    "plt.ylabel(\"Number_of_Casualties\")\n",
    "plt.bar(x,y,width = 0.4)"
   ]
  },
  {
   "cell_type": "markdown",
   "id": "3aed46aa",
   "metadata": {},
   "source": [
    "# Pedestrian_Crossing-Human_Control"
   ]
  },
  {
   "cell_type": "code",
   "execution_count": 45,
   "id": "7d45c267",
   "metadata": {},
   "outputs": [
    {
     "data": {
      "text/plain": [
       "<BarContainer object of 3 artists>"
      ]
     },
     "execution_count": 45,
     "metadata": {},
     "output_type": "execute_result"
    },
    {
     "data": {
      "image/png": "[encoded data removed]",
      "text/plain": [
       "<Figure size 720x360 with 1 Axes>"
      ]
     },
     "metadata": {
      "needs_background": "light"
     },
     "output_type": "display_data"
    }
   ],
   "source": [
    "x1 = data.groupby('Pedestrian_Crossing-Human_Control').agg({'Number_of_Casualties': 'mean'}).reset_index()\n",
    "x = list(x1['Pedestrian_Crossing-Human_Control'].values) # defining x axis\n",
    "y = list(x1['Number_of_Casualties'].values) # defining y axis\n",
    "plt.figure(figsize=(10, 5))\n",
    "plt.xlabel(\"Pedestrian_Crossing-Human_Control\")\n",
    "plt.ylabel(\"Number_of_Casualties\")\n",
    "plt.bar(x,y,width = 0.4)"
   ]
  },
  {
   "cell_type": "markdown",
   "id": "0c162090",
   "metadata": {},
   "source": [
    "# Urban or Rural:"
   ]
  },
  {
   "cell_type": "code",
   "execution_count": 47,
   "id": "fab9285c",
   "metadata": {},
   "outputs": [
    {
     "data": {
      "text/plain": [
       "<BarContainer object of 2 artists>"
      ]
     },
     "execution_count": 47,
     "metadata": {},
     "output_type": "execute_result"
    },
    {
     "data": {
      "image/png": "[encoded data removed]",
      "text/plain": [
       "<Figure size 576x288 with 1 Axes>"
      ]
     },
     "metadata": {
      "needs_background": "light"
     },
     "output_type": "display_data"
    }
   ],
   "source": [
    "x1 = data.groupby('Urban_or_Rural_Area').agg({'Number_of_Casualties': 'mean'}).reset_index()\n",
    "x = list(x1['Urban_or_Rural_Area'].values) # defining x axis\n",
    "y = list(x1['Number_of_Casualties'].values) # defining y axis\n",
    "plt.figure(figsize=(8, 4))\n",
    "plt.xlabel(\"Urban_or_Rural_Area\")\n",
    "plt.ylabel(\"Number_of_Casualties\")\n",
    "plt.bar(x,y,width = 0.2)"
   ]
  },
  {
   "cell_type": "markdown",
   "id": "9f911873",
   "metadata": {},
   "source": [
    "# State:"
   ]
  },
  {
   "cell_type": "code",
   "execution_count": 48,
   "id": "b9a27bea",
   "metadata": {},
   "outputs": [
    {
     "data": {
      "text/plain": [
       "<BarContainer object of 3 artists>"
      ]
     },
     "execution_count": 48,
     "metadata": {},
     "output_type": "execute_result"
    },
    {
     "data": {
      "image/png": "[encoded data removed]",
      "text/plain": [
       "<Figure size 576x288 with 1 Axes>"
      ]
     },
     "metadata": {
      "needs_background": "light"
     },
     "output_type": "display_data"
    }
   ],
   "source": [
    "x1 = data.groupby('state').agg({'Number_of_Casualties': 'mean'}).reset_index()\n",
    "x = list(x1['state'].values) # defining x axis\n",
    "y = list(x1['Number_of_Casualties'].values) # defining y axis\n",
    "plt.figure(figsize=(8, 4))\n",
    "plt.xlabel(\"state\")\n",
    "plt.ylabel(\"Number_of_Casualties\")\n",
    "plt.bar(x,y,width = 0.2)"
   ]
  },
  {
   "cell_type": "markdown",
   "id": "963e0684",
   "metadata": {},
   "source": [
    "- Mean casualities is same for all 3 states."
   ]
  },
  {
   "cell_type": "markdown",
   "id": "1dbea0bb",
   "metadata": {},
   "source": [
    "# Drop low variance features:"
   ]
  },
  {
   "cell_type": "code",
   "execution_count": 49,
   "id": "ab26aed8",
   "metadata": {},
   "outputs": [],
   "source": [
    "# selecting the categorical features to be dropped.\n",
    "data_new = data[['Time','Local_Authority_(Highway)','Road_Type','Pedestrian_Crossing-Human_Control',\n",
    "               'Pedestrian_Crossing-Physical_Facilities', 'Light_Conditions','Weather_Conditions', 'Road_Surface_Conditions',\n",
    "               'Special_Conditions_at_Site', 'Carriageway_Hazards','Did_Police_Officer_Attend_Scene_of_Accident',\n",
    "               'state', 'postcode']]"
   ]
  },
  {
   "cell_type": "code",
   "execution_count": 50,
   "id": "af926a49",
   "metadata": {},
   "outputs": [
    {
     "data": {
      "text/html": [
       "<div>\n",
       "<style scoped>\n",
       "    .dataframe tbody tr th:only-of-type {\n",
       "        vertical-align: middle;\n",
       "    }\n",
       "\n",
       "    .dataframe tbody tr th {\n",
       "        vertical-align: top;\n",
       "    }\n",
       "\n",
       "    .dataframe thead th {\n",
       "        text-align: right;\n",
       "    }\n",
       "</style>\n",
       "<table border=\"1\" class=\"dataframe\">\n",
       "  <thead>\n",
       "    <tr style=\"text-align: right;\">\n",
       "      <th></th>\n",
       "      <th>Time</th>\n",
       "      <th>Local_Authority_(Highway)</th>\n",
       "      <th>Road_Type</th>\n",
       "      <th>Pedestrian_Crossing-Human_Control</th>\n",
       "      <th>Pedestrian_Crossing-Physical_Facilities</th>\n",
       "      <th>Light_Conditions</th>\n",
       "      <th>Weather_Conditions</th>\n",
       "      <th>Road_Surface_Conditions</th>\n",
       "      <th>Special_Conditions_at_Site</th>\n",
       "      <th>Carriageway_Hazards</th>\n",
       "      <th>Did_Police_Officer_Attend_Scene_of_Accident</th>\n",
       "      <th>state</th>\n",
       "      <th>postcode</th>\n",
       "    </tr>\n",
       "  </thead>\n",
       "  <tbody>\n",
       "    <tr>\n",
       "      <th>0</th>\n",
       "      <td>Afternoon</td>\n",
       "      <td>E10000032</td>\n",
       "      <td>Single carriageway</td>\n",
       "      <td>None within 50 metres</td>\n",
       "      <td>No physical crossing within 50 meters</td>\n",
       "      <td>Daylight: Street light present</td>\n",
       "      <td>Fine without high winds</td>\n",
       "      <td>Dry</td>\n",
       "      <td>Ol or diesel</td>\n",
       "      <td>None</td>\n",
       "      <td>Yes</td>\n",
       "      <td>England</td>\n",
       "      <td>OX3 9UP</td>\n",
       "    </tr>\n",
       "    <tr>\n",
       "      <th>1</th>\n",
       "      <td>Morning</td>\n",
       "      <td>E09000026</td>\n",
       "      <td>One way street</td>\n",
       "      <td>None within 50 metres</td>\n",
       "      <td>No physical crossing within 50 meters</td>\n",
       "      <td>Daylight: Street light present</td>\n",
       "      <td>Raining without high winds</td>\n",
       "      <td>Dry</td>\n",
       "      <td>Normal</td>\n",
       "      <td>None</td>\n",
       "      <td>No</td>\n",
       "      <td>England</td>\n",
       "      <td>S35 4EZ</td>\n",
       "    </tr>\n",
       "  </tbody>\n",
       "</table>\n",
       "</div>"
      ],
      "text/plain": [
       "        Time Local_Authority_(Highway)           Road_Type  \\\n",
       "0  Afternoon                 E10000032  Single carriageway   \n",
       "1    Morning                 E09000026      One way street   \n",
       "\n",
       "  Pedestrian_Crossing-Human_Control Pedestrian_Crossing-Physical_Facilities  \\\n",
       "0             None within 50 metres   No physical crossing within 50 meters   \n",
       "1             None within 50 metres   No physical crossing within 50 meters   \n",
       "\n",
       "                 Light_Conditions          Weather_Conditions  \\\n",
       "0  Daylight: Street light present     Fine without high winds   \n",
       "1  Daylight: Street light present  Raining without high winds   \n",
       "\n",
       "  Road_Surface_Conditions Special_Conditions_at_Site Carriageway_Hazards  \\\n",
       "0                     Dry               Ol or diesel                None   \n",
       "1                     Dry                     Normal                None   \n",
       "\n",
       "  Did_Police_Officer_Attend_Scene_of_Accident    state postcode  \n",
       "0                                         Yes  England  OX3 9UP  \n",
       "1                                          No  England  S35 4EZ  "
      ]
     },
     "execution_count": 50,
     "metadata": {},
     "output_type": "execute_result"
    }
   ],
   "source": [
    "data_new.head(2)"
   ]
  },
  {
   "cell_type": "code",
   "execution_count": 51,
   "id": "8bf14cd2",
   "metadata": {},
   "outputs": [
    {
     "name": "stderr",
     "output_type": "stream",
     "text": [
      "\n",
      "A value is trying to be set on a copy of a slice from a DataFrame.\n",
      "Try using .loc[row_indexer,col_indexer] = value instead\n",
      "\n",
      "See the caveats in the documentation: https://pandas.pydata.org/pandas-docs/stable/user_guide/indexing.html#returning-a-view-versus-a-copy\n"
     ]
    }
   ],
   "source": [
    "# label encoding the categorical features.\n",
    "ord_enc = OrdinalEncoder()\n",
    "data_new[['Time','Local_Authority_(Highway)','Road_Type','Pedestrian_Crossing-Human_Control','Pedestrian_Crossing-Physical_Facilities', 'Light_Conditions','Weather_Conditions', 'Road_Surface_Conditions','Special_Conditions_at_Site', 'Carriageway_Hazards','Did_Police_Officer_Attend_Scene_of_Accident',\n",
    "        'state', 'postcode']] = ord_enc.fit_transform(data_new[['Time','Local_Authority_(Highway)','Road_Type','Pedestrian_Crossing-Human_Control','Pedestrian_Crossing-Physical_Facilities', 'Light_Conditions','Weather_Conditions', 'Road_Surface_Conditions','Special_Conditions_at_Site', 'Carriageway_Hazards','Did_Police_Officer_Attend_Scene_of_Accident','state', 'postcode']])"
   ]
  },
  {
   "cell_type": "code",
   "execution_count": 52,
   "id": "3cf5613a",
   "metadata": {},
   "outputs": [
    {
     "data": {
      "text/html": [
       "<div>\n",
       "<style scoped>\n",
       "    .dataframe tbody tr th:only-of-type {\n",
       "        vertical-align: middle;\n",
       "    }\n",
       "\n",
       "    .dataframe tbody tr th {\n",
       "        vertical-align: top;\n",
       "    }\n",
       "\n",
       "    .dataframe thead th {\n",
       "        text-align: right;\n",
       "    }\n",
       "</style>\n",
       "<table border=\"1\" class=\"dataframe\">\n",
       "  <thead>\n",
       "    <tr style=\"text-align: right;\">\n",
       "      <th></th>\n",
       "      <th>Time</th>\n",
       "      <th>Local_Authority_(Highway)</th>\n",
       "      <th>Road_Type</th>\n",
       "      <th>Pedestrian_Crossing-Human_Control</th>\n",
       "      <th>Pedestrian_Crossing-Physical_Facilities</th>\n",
       "      <th>Light_Conditions</th>\n",
       "      <th>Weather_Conditions</th>\n",
       "      <th>Road_Surface_Conditions</th>\n",
       "      <th>Special_Conditions_at_Site</th>\n",
       "      <th>Carriageway_Hazards</th>\n",
       "      <th>Did_Police_Officer_Attend_Scene_of_Accident</th>\n",
       "      <th>state</th>\n",
       "      <th>postcode</th>\n",
       "    </tr>\n",
       "  </thead>\n",
       "  <tbody>\n",
       "    <tr>\n",
       "      <th>0</th>\n",
       "      <td>0.0</td>\n",
       "      <td>150.0</td>\n",
       "      <td>3.0</td>\n",
       "      <td>2.0</td>\n",
       "      <td>2.0</td>\n",
       "      <td>4.0</td>\n",
       "      <td>1.0</td>\n",
       "      <td>0.0</td>\n",
       "      <td>4.0</td>\n",
       "      <td>3.0</td>\n",
       "      <td>1.0</td>\n",
       "      <td>2.0</td>\n",
       "      <td>60630.0</td>\n",
       "    </tr>\n",
       "    <tr>\n",
       "      <th>1</th>\n",
       "      <td>2.0</td>\n",
       "      <td>117.0</td>\n",
       "      <td>1.0</td>\n",
       "      <td>2.0</td>\n",
       "      <td>2.0</td>\n",
       "      <td>4.0</td>\n",
       "      <td>5.0</td>\n",
       "      <td>0.0</td>\n",
       "      <td>3.0</td>\n",
       "      <td>3.0</td>\n",
       "      <td>0.0</td>\n",
       "      <td>2.0</td>\n",
       "      <td>69641.0</td>\n",
       "    </tr>\n",
       "    <tr>\n",
       "      <th>2</th>\n",
       "      <td>0.0</td>\n",
       "      <td>136.0</td>\n",
       "      <td>2.0</td>\n",
       "      <td>2.0</td>\n",
       "      <td>4.0</td>\n",
       "      <td>4.0</td>\n",
       "      <td>1.0</td>\n",
       "      <td>0.0</td>\n",
       "      <td>3.0</td>\n",
       "      <td>3.0</td>\n",
       "      <td>0.0</td>\n",
       "      <td>2.0</td>\n",
       "      <td>7678.0</td>\n",
       "    </tr>\n",
       "    <tr>\n",
       "      <th>3</th>\n",
       "      <td>0.0</td>\n",
       "      <td>90.0</td>\n",
       "      <td>3.0</td>\n",
       "      <td>2.0</td>\n",
       "      <td>2.0</td>\n",
       "      <td>4.0</td>\n",
       "      <td>1.0</td>\n",
       "      <td>0.0</td>\n",
       "      <td>7.0</td>\n",
       "      <td>3.0</td>\n",
       "      <td>1.0</td>\n",
       "      <td>2.0</td>\n",
       "      <td>83198.0</td>\n",
       "    </tr>\n",
       "    <tr>\n",
       "      <th>4</th>\n",
       "      <td>0.0</td>\n",
       "      <td>149.0</td>\n",
       "      <td>0.0</td>\n",
       "      <td>2.0</td>\n",
       "      <td>4.0</td>\n",
       "      <td>4.0</td>\n",
       "      <td>1.0</td>\n",
       "      <td>0.0</td>\n",
       "      <td>3.0</td>\n",
       "      <td>3.0</td>\n",
       "      <td>0.0</td>\n",
       "      <td>2.0</td>\n",
       "      <td>22448.0</td>\n",
       "    </tr>\n",
       "  </tbody>\n",
       "</table>\n",
       "</div>"
      ],
      "text/plain": [
       "   Time  Local_Authority_(Highway)  Road_Type  \\\n",
       "0   0.0                      150.0        3.0   \n",
       "1   2.0                      117.0        1.0   \n",
       "2   0.0                      136.0        2.0   \n",
       "3   0.0                       90.0        3.0   \n",
       "4   0.0                      149.0        0.0   \n",
       "\n",
       "   Pedestrian_Crossing-Human_Control  Pedestrian_Crossing-Physical_Facilities  \\\n",
       "0                                2.0                                      2.0   \n",
       "1                                2.0                                      2.0   \n",
       "2                                2.0                                      4.0   \n",
       "3                                2.0                                      2.0   \n",
       "4                                2.0                                      4.0   \n",
       "\n",
       "   Light_Conditions  Weather_Conditions  Road_Surface_Conditions  \\\n",
       "0               4.0                 1.0                      0.0   \n",
       "1               4.0                 5.0                      0.0   \n",
       "2               4.0                 1.0                      0.0   \n",
       "3               4.0                 1.0                      0.0   \n",
       "4               4.0                 1.0                      0.0   \n",
       "\n",
       "   Special_Conditions_at_Site  Carriageway_Hazards  \\\n",
       "0                         4.0                  3.0   \n",
       "1                         3.0                  3.0   \n",
       "2                         3.0                  3.0   \n",
       "3                         7.0                  3.0   \n",
       "4                         3.0                  3.0   \n",
       "\n",
       "   Did_Police_Officer_Attend_Scene_of_Accident  state  postcode  \n",
       "0                                          1.0    2.0   60630.0  \n",
       "1                                          0.0    2.0   69641.0  \n",
       "2                                          0.0    2.0    7678.0  \n",
       "3                                          1.0    2.0   83198.0  \n",
       "4                                          0.0    2.0   22448.0  "
      ]
     },
     "execution_count": 52,
     "metadata": {},
     "output_type": "execute_result"
    }
   ],
   "source": [
    "data_new.head(5)"
   ]
  },
  {
   "cell_type": "code",
   "execution_count": 53,
   "id": "1618de92",
   "metadata": {},
   "outputs": [
    {
     "data": {
      "text/html": [
       "<style>#sk-container-id-1 {color: black;background-color: white;}#sk-container-id-1 pre{padding: 0;}#sk-container-id-1 div.sk-toggleable {background-color: white;}#sk-container-id-1 label.sk-toggleable__label {cursor: pointer;display: block;width: 100%;margin-bottom: 0;padding: 0.3em;box-sizing: border-box;text-align: center;}#sk-container-id-1 label.sk-toggleable__label-arrow:before {content: \"▸\";float: left;margin-right: 0.25em;color: #696969;}#sk-container-id-1 label.sk-toggleable__label-arrow:hover:before {color: black;}#sk-container-id-1 div.sk-estimator:hover label.sk-toggleable__label-arrow:before {color: black;}#sk-container-id-1 div.sk-toggleable__content {max-height: 0;max-width: 0;overflow: hidden;text-align: left;background-color: #f0f8ff;}#sk-container-id-1 div.sk-toggleable__content pre {margin: 0.2em;color: black;border-radius: 0.25em;background-color: #f0f8ff;}#sk-container-id-1 input.sk-toggleable__control:checked~div.sk-toggleable__content {max-height: 200px;max-width: 100%;overflow: auto;}#sk-container-id-1 input.sk-toggleable__control:checked~label.sk-toggleable__label-arrow:before {content: \"▾\";}#sk-container-id-1 div.sk-estimator input.sk-toggleable__control:checked~label.sk-toggleable__label {background-color: #d4ebff;}#sk-container-id-1 div.sk-label input.sk-toggleable__control:checked~label.sk-toggleable__label {background-color: #d4ebff;}#sk-container-id-1 input.sk-hidden--visually {border: 0;clip: rect(1px 1px 1px 1px);clip: rect(1px, 1px, 1px, 1px);height: 1px;margin: -1px;overflow: hidden;padding: 0;position: absolute;width: 1px;}#sk-container-id-1 div.sk-estimator {font-family: monospace;background-color: #f0f8ff;border: 1px dotted black;border-radius: 0.25em;box-sizing: border-box;margin-bottom: 0.5em;}#sk-container-id-1 div.sk-estimator:hover {background-color: #d4ebff;}#sk-container-id-1 div.sk-parallel-item::after {content: \"\";width: 100%;border-bottom: 1px solid gray;flex-grow: 1;}#sk-container-id-1 div.sk-label:hover label.sk-toggleable__label {background-color: #d4ebff;}#sk-container-id-1 div.sk-serial::before {content: \"\";position: absolute;border-left: 1px solid gray;box-sizing: border-box;top: 0;bottom: 0;left: 50%;z-index: 0;}#sk-container-id-1 div.sk-serial {display: flex;flex-direction: column;align-items: center;background-color: white;padding-right: 0.2em;padding-left: 0.2em;position: relative;}#sk-container-id-1 div.sk-item {position: relative;z-index: 1;}#sk-container-id-1 div.sk-parallel {display: flex;align-items: stretch;justify-content: center;background-color: white;position: relative;}#sk-container-id-1 div.sk-item::before, #sk-container-id-1 div.sk-parallel-item::before {content: \"\";position: absolute;border-left: 1px solid gray;box-sizing: border-box;top: 0;bottom: 0;left: 50%;z-index: -1;}#sk-container-id-1 div.sk-parallel-item {display: flex;flex-direction: column;z-index: 1;position: relative;background-color: white;}#sk-container-id-1 div.sk-parallel-item:first-child::after {align-self: flex-end;width: 50%;}#sk-container-id-1 div.sk-parallel-item:last-child::after {align-self: flex-start;width: 50%;}#sk-container-id-1 div.sk-parallel-item:only-child::after {width: 0;}#sk-container-id-1 div.sk-dashed-wrapped {border: 1px dashed gray;margin: 0 0.4em 0.5em 0.4em;box-sizing: border-box;padding-bottom: 0.4em;background-color: white;}#sk-container-id-1 div.sk-label label {font-family: monospace;font-weight: bold;display: inline-block;line-height: 1.2em;}#sk-container-id-1 div.sk-label-container {text-align: center;}#sk-container-id-1 div.sk-container {/* jupyter's `normalize.less` sets `[hidden] { display: none; }` but bootstrap.min.css set `[hidden] { display: none !important; }` so we also need the `!important` here to be able to override the default hidden behavior on the sphinx rendered scikit-learn.org. See: https://github.com/scikit-learn/scikit-learn/issues/21755 */display: inline-block !important;position: relative;}#sk-container-id-1 div.sk-text-repr-fallback {display: none;}</style><div id=\"sk-container-id-1\" class=\"sk-top-container\"><div class=\"sk-text-repr-fallback\"><pre>VarianceThreshold(threshold=0.25)</pre><b>In a Jupyter environment, please rerun this cell to show the HTML representation or trust the notebook. <br />On GitHub, the HTML representation is unable to render, please try loading this page with nbviewer.org.</b></div><div class=\"sk-container\" hidden><div class=\"sk-item\"><div class=\"sk-estimator sk-toggleable\"><input class=\"sk-toggleable__control sk-hidden--visually\" id=\"sk-estimator-id-1\" type=\"checkbox\" checked><label for=\"sk-estimator-id-1\" class=\"sk-toggleable__label sk-toggleable__label-arrow\">VarianceThreshold</label><div class=\"sk-toggleable__content\"><pre>VarianceThreshold(threshold=0.25)</pre></div></div></div></div></div>"
      ],
      "text/plain": [
       "VarianceThreshold(threshold=0.25)"
      ]
     },
     "execution_count": 53,
     "metadata": {},
     "output_type": "execute_result"
    }
   ],
   "source": [
    "# Removing all those features which are 75% similar. (Those which are having low variance)\n",
    "var_thr = VarianceThreshold(threshold = 0.25) #Removing both constant and quasi-constant\n",
    "var_thr.fit(data_new)"
   ]
  },
  {
   "cell_type": "code",
   "execution_count": 54,
   "id": "247469d6",
   "metadata": {},
   "outputs": [
    {
     "name": "stdout",
     "output_type": "stream",
     "text": [
      "Pedestrian_Crossing-Human_Control\n",
      "Carriageway_Hazards\n",
      "Did_Police_Officer_Attend_Scene_of_Accident\n"
     ]
    }
   ],
   "source": [
    "# The below code returns a list of features to be dropped.\n",
    "concol = [column for column in data_new.columns \n",
    "          if column not in data_new.columns[var_thr.get_support()]]\n",
    "\n",
    "for features in concol:\n",
    "    print(features)"
   ]
  },
  {
   "cell_type": "markdown",
   "id": "7b071237",
   "metadata": {},
   "source": [
    "- The above features are to be dropped."
   ]
  },
  {
   "cell_type": "code",
   "execution_count": 55,
   "id": "18950af4",
   "metadata": {},
   "outputs": [],
   "source": [
    "data.drop(concol,axis=1,inplace = True) # dropping the features with very low features."
   ]
  },
  {
   "cell_type": "code",
   "execution_count": 56,
   "id": "f9ca4c70",
   "metadata": {},
   "outputs": [
    {
     "data": {
      "text/html": [
       "<div>\n",
       "<style scoped>\n",
       "    .dataframe tbody tr th:only-of-type {\n",
       "        vertical-align: middle;\n",
       "    }\n",
       "\n",
       "    .dataframe tbody tr th {\n",
       "        vertical-align: top;\n",
       "    }\n",
       "\n",
       "    .dataframe thead th {\n",
       "        text-align: right;\n",
       "    }\n",
       "</style>\n",
       "<table border=\"1\" class=\"dataframe\">\n",
       "  <thead>\n",
       "    <tr style=\"text-align: right;\">\n",
       "      <th></th>\n",
       "      <th>Accident_ID</th>\n",
       "      <th>Police_Force</th>\n",
       "      <th>Number_of_Vehicles</th>\n",
       "      <th>Number_of_Casualties</th>\n",
       "      <th>Day_of_Week</th>\n",
       "      <th>Time</th>\n",
       "      <th>Local_Authority_(District)</th>\n",
       "      <th>Local_Authority_(Highway)</th>\n",
       "      <th>1st_Road_Class</th>\n",
       "      <th>1st_Road_Number</th>\n",
       "      <th>...</th>\n",
       "      <th>Pedestrian_Crossing-Physical_Facilities</th>\n",
       "      <th>Light_Conditions</th>\n",
       "      <th>Weather_Conditions</th>\n",
       "      <th>Road_Surface_Conditions</th>\n",
       "      <th>Special_Conditions_at_Site</th>\n",
       "      <th>Urban_or_Rural_Area</th>\n",
       "      <th>state</th>\n",
       "      <th>postcode</th>\n",
       "      <th>Month</th>\n",
       "      <th>Day</th>\n",
       "    </tr>\n",
       "  </thead>\n",
       "  <tbody>\n",
       "    <tr>\n",
       "      <th>0</th>\n",
       "      <td>1</td>\n",
       "      <td>34</td>\n",
       "      <td>2</td>\n",
       "      <td>1</td>\n",
       "      <td>7</td>\n",
       "      <td>Afternoon</td>\n",
       "      <td>344</td>\n",
       "      <td>E10000032</td>\n",
       "      <td>4</td>\n",
       "      <td>395</td>\n",
       "      <td>...</td>\n",
       "      <td>No physical crossing within 50 meters</td>\n",
       "      <td>Daylight: Street light present</td>\n",
       "      <td>Fine without high winds</td>\n",
       "      <td>Dry</td>\n",
       "      <td>Ol or diesel</td>\n",
       "      <td>1</td>\n",
       "      <td>England</td>\n",
       "      <td>OX3 9UP</td>\n",
       "      <td>12</td>\n",
       "      <td>19</td>\n",
       "    </tr>\n",
       "    <tr>\n",
       "      <th>1</th>\n",
       "      <td>2</td>\n",
       "      <td>5</td>\n",
       "      <td>2</td>\n",
       "      <td>1</td>\n",
       "      <td>4</td>\n",
       "      <td>Morning</td>\n",
       "      <td>102</td>\n",
       "      <td>E09000026</td>\n",
       "      <td>3</td>\n",
       "      <td>13</td>\n",
       "      <td>...</td>\n",
       "      <td>No physical crossing within 50 meters</td>\n",
       "      <td>Daylight: Street light present</td>\n",
       "      <td>Raining without high winds</td>\n",
       "      <td>Dry</td>\n",
       "      <td>Normal</td>\n",
       "      <td>1</td>\n",
       "      <td>England</td>\n",
       "      <td>S35 4EZ</td>\n",
       "      <td>2</td>\n",
       "      <td>11</td>\n",
       "    </tr>\n",
       "    <tr>\n",
       "      <th>2</th>\n",
       "      <td>3</td>\n",
       "      <td>1</td>\n",
       "      <td>2</td>\n",
       "      <td>1</td>\n",
       "      <td>4</td>\n",
       "      <td>Afternoon</td>\n",
       "      <td>531</td>\n",
       "      <td>E10000016</td>\n",
       "      <td>6</td>\n",
       "      <td>8</td>\n",
       "      <td>...</td>\n",
       "      <td>Zebra crossing</td>\n",
       "      <td>Daylight: Street light present</td>\n",
       "      <td>Fine without high winds</td>\n",
       "      <td>Dry</td>\n",
       "      <td>Normal</td>\n",
       "      <td>1</td>\n",
       "      <td>England</td>\n",
       "      <td>BN21 2XR</td>\n",
       "      <td>2</td>\n",
       "      <td>11</td>\n",
       "    </tr>\n",
       "    <tr>\n",
       "      <th>3</th>\n",
       "      <td>4</td>\n",
       "      <td>1</td>\n",
       "      <td>1</td>\n",
       "      <td>1</td>\n",
       "      <td>1</td>\n",
       "      <td>Afternoon</td>\n",
       "      <td>7</td>\n",
       "      <td>E08000035</td>\n",
       "      <td>6</td>\n",
       "      <td>13</td>\n",
       "      <td>...</td>\n",
       "      <td>No physical crossing within 50 meters</td>\n",
       "      <td>Daylight: Street light present</td>\n",
       "      <td>Fine without high winds</td>\n",
       "      <td>Dry</td>\n",
       "      <td>Roadworks</td>\n",
       "      <td>1</td>\n",
       "      <td>England</td>\n",
       "      <td>TA20 3PT</td>\n",
       "      <td>6</td>\n",
       "      <td>5</td>\n",
       "    </tr>\n",
       "    <tr>\n",
       "      <th>4</th>\n",
       "      <td>5</td>\n",
       "      <td>46</td>\n",
       "      <td>1</td>\n",
       "      <td>1</td>\n",
       "      <td>3</td>\n",
       "      <td>Afternoon</td>\n",
       "      <td>519</td>\n",
       "      <td>E10000031</td>\n",
       "      <td>3</td>\n",
       "      <td>24</td>\n",
       "      <td>...</td>\n",
       "      <td>Zebra crossing</td>\n",
       "      <td>Daylight: Street light present</td>\n",
       "      <td>Fine without high winds</td>\n",
       "      <td>Dry</td>\n",
       "      <td>Normal</td>\n",
       "      <td>1</td>\n",
       "      <td>England</td>\n",
       "      <td>DN20 0QF</td>\n",
       "      <td>6</td>\n",
       "      <td>30</td>\n",
       "    </tr>\n",
       "    <tr>\n",
       "      <th>...</th>\n",
       "      <td>...</td>\n",
       "      <td>...</td>\n",
       "      <td>...</td>\n",
       "      <td>...</td>\n",
       "      <td>...</td>\n",
       "      <td>...</td>\n",
       "      <td>...</td>\n",
       "      <td>...</td>\n",
       "      <td>...</td>\n",
       "      <td>...</td>\n",
       "      <td>...</td>\n",
       "      <td>...</td>\n",
       "      <td>...</td>\n",
       "      <td>...</td>\n",
       "      <td>...</td>\n",
       "      <td>...</td>\n",
       "      <td>...</td>\n",
       "      <td>...</td>\n",
       "      <td>...</td>\n",
       "      <td>...</td>\n",
       "      <td>...</td>\n",
       "    </tr>\n",
       "    <tr>\n",
       "      <th>478736</th>\n",
       "      <td>599995</td>\n",
       "      <td>13</td>\n",
       "      <td>1</td>\n",
       "      <td>1</td>\n",
       "      <td>6</td>\n",
       "      <td>Afternoon</td>\n",
       "      <td>199</td>\n",
       "      <td>E10000015</td>\n",
       "      <td>6</td>\n",
       "      <td>0</td>\n",
       "      <td>...</td>\n",
       "      <td>No physical crossing within 50 meters</td>\n",
       "      <td>Daylight: Street light present</td>\n",
       "      <td>Fine without high winds</td>\n",
       "      <td>Snow</td>\n",
       "      <td>Normal</td>\n",
       "      <td>2</td>\n",
       "      <td>England</td>\n",
       "      <td>E12 6EA</td>\n",
       "      <td>9</td>\n",
       "      <td>28</td>\n",
       "    </tr>\n",
       "    <tr>\n",
       "      <th>478737</th>\n",
       "      <td>599996</td>\n",
       "      <td>13</td>\n",
       "      <td>2</td>\n",
       "      <td>1</td>\n",
       "      <td>4</td>\n",
       "      <td>Evening</td>\n",
       "      <td>211</td>\n",
       "      <td>E09000012</td>\n",
       "      <td>6</td>\n",
       "      <td>1293</td>\n",
       "      <td>...</td>\n",
       "      <td>No physical crossing within 50 meters</td>\n",
       "      <td>Daylight: Street light present</td>\n",
       "      <td>Fine without high winds</td>\n",
       "      <td>Wet/Damp</td>\n",
       "      <td>Normal</td>\n",
       "      <td>1</td>\n",
       "      <td>England</td>\n",
       "      <td>NN2 8PF</td>\n",
       "      <td>1</td>\n",
       "      <td>23</td>\n",
       "    </tr>\n",
       "    <tr>\n",
       "      <th>478738</th>\n",
       "      <td>599997</td>\n",
       "      <td>6</td>\n",
       "      <td>2</td>\n",
       "      <td>4</td>\n",
       "      <td>6</td>\n",
       "      <td>Morning</td>\n",
       "      <td>80</td>\n",
       "      <td>E06000047</td>\n",
       "      <td>3</td>\n",
       "      <td>310</td>\n",
       "      <td>...</td>\n",
       "      <td>No physical crossing within 50 meters</td>\n",
       "      <td>Daylight: Street light present</td>\n",
       "      <td>Fine without high winds</td>\n",
       "      <td>Dry</td>\n",
       "      <td>Normal</td>\n",
       "      <td>1</td>\n",
       "      <td>England</td>\n",
       "      <td>DN36 5FR</td>\n",
       "      <td>5</td>\n",
       "      <td>15</td>\n",
       "    </tr>\n",
       "    <tr>\n",
       "      <th>478739</th>\n",
       "      <td>599998</td>\n",
       "      <td>33</td>\n",
       "      <td>2</td>\n",
       "      <td>1</td>\n",
       "      <td>2</td>\n",
       "      <td>Morning</td>\n",
       "      <td>321</td>\n",
       "      <td>E10000024</td>\n",
       "      <td>3</td>\n",
       "      <td>3283</td>\n",
       "      <td>...</td>\n",
       "      <td>No physical crossing within 50 meters</td>\n",
       "      <td>Daylight: Street light present</td>\n",
       "      <td>Fine without high winds</td>\n",
       "      <td>Dry</td>\n",
       "      <td>Normal</td>\n",
       "      <td>2</td>\n",
       "      <td>England</td>\n",
       "      <td>BN11 2EB</td>\n",
       "      <td>9</td>\n",
       "      <td>10</td>\n",
       "    </tr>\n",
       "    <tr>\n",
       "      <th>478740</th>\n",
       "      <td>599999</td>\n",
       "      <td>1</td>\n",
       "      <td>2</td>\n",
       "      <td>1</td>\n",
       "      <td>6</td>\n",
       "      <td>Morning</td>\n",
       "      <td>23</td>\n",
       "      <td>E09000025</td>\n",
       "      <td>4</td>\n",
       "      <td>9</td>\n",
       "      <td>...</td>\n",
       "      <td>No physical crossing within 50 meters</td>\n",
       "      <td>Daylight: Street light present</td>\n",
       "      <td>Raining without high winds</td>\n",
       "      <td>Dry</td>\n",
       "      <td>Normal</td>\n",
       "      <td>1</td>\n",
       "      <td>England</td>\n",
       "      <td>IP10 0AH</td>\n",
       "      <td>12</td>\n",
       "      <td>4</td>\n",
       "    </tr>\n",
       "  </tbody>\n",
       "</table>\n",
       "<p>478727 rows × 23 columns</p>\n",
       "</div>"
      ],
      "text/plain": [
       "        Accident_ID  Police_Force  Number_of_Vehicles  Number_of_Casualties  \\\n",
       "0                 1            34                   2                     1   \n",
       "1                 2             5                   2                     1   \n",
       "2                 3             1                   2                     1   \n",
       "3                 4             1                   1                     1   \n",
       "4                 5            46                   1                     1   \n",
       "...             ...           ...                 ...                   ...   \n",
       "478736       599995            13                   1                     1   \n",
       "478737       599996            13                   2                     1   \n",
       "478738       599997             6                   2                     4   \n",
       "478739       599998            33                   2                     1   \n",
       "478740       599999             1                   2                     1   \n",
       "\n",
       "        Day_of_Week       Time  Local_Authority_(District)  \\\n",
       "0                 7  Afternoon                         344   \n",
       "1                 4    Morning                         102   \n",
       "2                 4  Afternoon                         531   \n",
       "3                 1  Afternoon                           7   \n",
       "4                 3  Afternoon                         519   \n",
       "...             ...        ...                         ...   \n",
       "478736            6  Afternoon                         199   \n",
       "478737            4    Evening                         211   \n",
       "478738            6    Morning                          80   \n",
       "478739            2    Morning                         321   \n",
       "478740            6    Morning                          23   \n",
       "\n",
       "       Local_Authority_(Highway)  1st_Road_Class  1st_Road_Number  ...  \\\n",
       "0                      E10000032               4              395  ...   \n",
       "1                      E09000026               3               13  ...   \n",
       "2                      E10000016               6                8  ...   \n",
       "3                      E08000035               6               13  ...   \n",
       "4                      E10000031               3               24  ...   \n",
       "...                          ...             ...              ...  ...   \n",
       "478736                 E10000015               6                0  ...   \n",
       "478737                 E09000012               6             1293  ...   \n",
       "478738                 E06000047               3              310  ...   \n",
       "478739                 E10000024               3             3283  ...   \n",
       "478740                 E09000025               4                9  ...   \n",
       "\n",
       "       Pedestrian_Crossing-Physical_Facilities  \\\n",
       "0        No physical crossing within 50 meters   \n",
       "1        No physical crossing within 50 meters   \n",
       "2                               Zebra crossing   \n",
       "3        No physical crossing within 50 meters   \n",
       "4                               Zebra crossing   \n",
       "...                                        ...   \n",
       "478736   No physical crossing within 50 meters   \n",
       "478737   No physical crossing within 50 meters   \n",
       "478738   No physical crossing within 50 meters   \n",
       "478739   No physical crossing within 50 meters   \n",
       "478740   No physical crossing within 50 meters   \n",
       "\n",
       "                      Light_Conditions          Weather_Conditions  \\\n",
       "0       Daylight: Street light present     Fine without high winds   \n",
       "1       Daylight: Street light present  Raining without high winds   \n",
       "2       Daylight: Street light present     Fine without high winds   \n",
       "3       Daylight: Street light present     Fine without high winds   \n",
       "4       Daylight: Street light present     Fine without high winds   \n",
       "...                                ...                         ...   \n",
       "478736  Daylight: Street light present     Fine without high winds   \n",
       "478737  Daylight: Street light present     Fine without high winds   \n",
       "478738  Daylight: Street light present     Fine without high winds   \n",
       "478739  Daylight: Street light present     Fine without high winds   \n",
       "478740  Daylight: Street light present  Raining without high winds   \n",
       "\n",
       "       Road_Surface_Conditions Special_Conditions_at_Site Urban_or_Rural_Area  \\\n",
       "0                          Dry               Ol or diesel                   1   \n",
       "1                          Dry                     Normal                   1   \n",
       "2                          Dry                     Normal                   1   \n",
       "3                          Dry                  Roadworks                   1   \n",
       "4                          Dry                     Normal                   1   \n",
       "...                        ...                        ...                 ...   \n",
       "478736                    Snow                     Normal                   2   \n",
       "478737                Wet/Damp                     Normal                   1   \n",
       "478738                     Dry                     Normal                   1   \n",
       "478739                     Dry                     Normal                   2   \n",
       "478740                     Dry                     Normal                   1   \n",
       "\n",
       "          state  postcode  Month Day  \n",
       "0       England   OX3 9UP     12  19  \n",
       "1       England   S35 4EZ      2  11  \n",
       "2       England  BN21 2XR      2  11  \n",
       "3       England  TA20 3PT      6   5  \n",
       "4       England  DN20 0QF      6  30  \n",
       "...         ...       ...    ...  ..  \n",
       "478736  England   E12 6EA      9  28  \n",
       "478737  England   NN2 8PF      1  23  \n",
       "478738  England  DN36 5FR      5  15  \n",
       "478739  England  BN11 2EB      9  10  \n",
       "478740  England  IP10 0AH     12   4  \n",
       "\n",
       "[478727 rows x 23 columns]"
      ]
     },
     "execution_count": 56,
     "metadata": {},
     "output_type": "execute_result"
    }
   ],
   "source": [
    "data"
   ]
  },
  {
   "cell_type": "code",
   "execution_count": 57,
   "id": "8baa8213",
   "metadata": {},
   "outputs": [],
   "source": [
    "data.drop([\"Day\"],axis=1,inplace = True) # dropping the \"day\" feature as it won't add much power to our model."
   ]
  },
  {
   "cell_type": "code",
   "execution_count": 58,
   "id": "a4f255f7",
   "metadata": {},
   "outputs": [
    {
     "data": {
      "text/plain": [
       "(478727, 22)"
      ]
     },
     "execution_count": 58,
     "metadata": {},
     "output_type": "execute_result"
    }
   ],
   "source": [
    "data.shape"
   ]
  },
  {
   "cell_type": "code",
   "execution_count": 59,
   "id": "3a8c9831",
   "metadata": {},
   "outputs": [],
   "source": [
    "data.to_csv(\"good_variance.csv\") # saving the file"
   ]
  },
  {
   "cell_type": "code",
   "execution_count": 60,
   "id": "47ba2420",
   "metadata": {},
   "outputs": [],
   "source": [
    "data = pd.read_csv(\"good_variance.csv\")"
   ]
  },
  {
   "cell_type": "markdown",
   "id": "d53e5d5b",
   "metadata": {},
   "source": [
    "# Data Cleaning: Categorical Features"
   ]
  },
  {
   "cell_type": "markdown",
   "id": "d7f9c731",
   "metadata": {},
   "source": [
    "- We clean the categorical features as they would be One hot encoded later."
   ]
  },
  {
   "cell_type": "code",
   "execution_count": 61,
   "id": "92750c13",
   "metadata": {},
   "outputs": [],
   "source": [
    "categorical = [\"Road_Type\",\"Pedestrian_Crossing-Physical_Facilities\",\n",
    "               \"Light_Conditions\",\"Weather_Conditions\",\"Road_Surface_Conditions\",\"Special_Conditions_at_Site\",\n",
    "              \"state\"]"
   ]
  },
  {
   "cell_type": "code",
   "execution_count": 62,
   "id": "bc0ef525",
   "metadata": {},
   "outputs": [
    {
     "data": {
      "text/html": [
       "<div>\n",
       "<style scoped>\n",
       "    .dataframe tbody tr th:only-of-type {\n",
       "        vertical-align: middle;\n",
       "    }\n",
       "\n",
       "    .dataframe tbody tr th {\n",
       "        vertical-align: top;\n",
       "    }\n",
       "\n",
       "    .dataframe thead th {\n",
       "        text-align: right;\n",
       "    }\n",
       "</style>\n",
       "<table border=\"1\" class=\"dataframe\">\n",
       "  <thead>\n",
       "    <tr style=\"text-align: right;\">\n",
       "      <th></th>\n",
       "      <th>Road_Type</th>\n",
       "      <th>Pedestrian_Crossing-Physical_Facilities</th>\n",
       "      <th>Light_Conditions</th>\n",
       "      <th>Weather_Conditions</th>\n",
       "      <th>Road_Surface_Conditions</th>\n",
       "      <th>Special_Conditions_at_Site</th>\n",
       "      <th>state</th>\n",
       "    </tr>\n",
       "  </thead>\n",
       "  <tbody>\n",
       "    <tr>\n",
       "      <th>0</th>\n",
       "      <td>Single carriageway</td>\n",
       "      <td>No physical crossing within 50 meters</td>\n",
       "      <td>Daylight: Street light present</td>\n",
       "      <td>Fine without high winds</td>\n",
       "      <td>Dry</td>\n",
       "      <td>Ol or diesel</td>\n",
       "      <td>England</td>\n",
       "    </tr>\n",
       "    <tr>\n",
       "      <th>1</th>\n",
       "      <td>One way street</td>\n",
       "      <td>No physical crossing within 50 meters</td>\n",
       "      <td>Daylight: Street light present</td>\n",
       "      <td>Raining without high winds</td>\n",
       "      <td>Dry</td>\n",
       "      <td>Normal</td>\n",
       "      <td>England</td>\n",
       "    </tr>\n",
       "  </tbody>\n",
       "</table>\n",
       "</div>"
      ],
      "text/plain": [
       "            Road_Type Pedestrian_Crossing-Physical_Facilities  \\\n",
       "0  Single carriageway   No physical crossing within 50 meters   \n",
       "1      One way street   No physical crossing within 50 meters   \n",
       "\n",
       "                 Light_Conditions          Weather_Conditions  \\\n",
       "0  Daylight: Street light present     Fine without high winds   \n",
       "1  Daylight: Street light present  Raining without high winds   \n",
       "\n",
       "  Road_Surface_Conditions Special_Conditions_at_Site    state  \n",
       "0                     Dry               Ol or diesel  England  \n",
       "1                     Dry                     Normal  England  "
      ]
     },
     "execution_count": 62,
     "metadata": {},
     "output_type": "execute_result"
    }
   ],
   "source": [
    "data[categorical].head(2)"
   ]
  },
  {
   "cell_type": "markdown",
   "id": "bd99ac1e",
   "metadata": {},
   "source": [
    "The following cleaning has been done:\n",
    "- Replacing empty strings with \"_\"\n",
    "- Lowering the characters\n",
    "- removing unnecessary characters"
   ]
  },
  {
   "cell_type": "markdown",
   "id": "beea8242",
   "metadata": {},
   "source": [
    "# Road type:"
   ]
  },
  {
   "cell_type": "code",
   "execution_count": 63,
   "id": "fd5f6329",
   "metadata": {},
   "outputs": [
    {
     "data": {
      "text/plain": [
       "Single carriageway    372545\n",
       "Dual carriageway       52780\n",
       "Roundabout             28540\n",
       "One way street         24310\n",
       "Slip road                523\n",
       "Unknown                   29\n",
       "Name: Road_Type, dtype: int64"
      ]
     },
     "execution_count": 63,
     "metadata": {},
     "output_type": "execute_result"
    }
   ],
   "source": [
    "data[\"Road_Type\"].value_counts()"
   ]
  },
  {
   "cell_type": "code",
   "execution_count": 64,
   "id": "c05df759",
   "metadata": {},
   "outputs": [],
   "source": [
    "road = []\n",
    "for i in list(data['Road_Type'].values):\n",
    "    txt = i.lower() # converting to lowercase\n",
    "    txt = re.sub(\" \",'_', txt)\n",
    "    road.append(txt)"
   ]
  },
  {
   "cell_type": "code",
   "execution_count": 65,
   "id": "231ce4d1",
   "metadata": {},
   "outputs": [],
   "source": [
    "data[\"Road_Type\"] = road"
   ]
  },
  {
   "cell_type": "code",
   "execution_count": 66,
   "id": "99e8eb40",
   "metadata": {},
   "outputs": [
    {
     "data": {
      "text/plain": [
       "single_carriageway    372545\n",
       "dual_carriageway       52780\n",
       "roundabout             28540\n",
       "one_way_street         24310\n",
       "slip_road                523\n",
       "unknown                   29\n",
       "Name: Road_Type, dtype: int64"
      ]
     },
     "execution_count": 66,
     "metadata": {},
     "output_type": "execute_result"
    }
   ],
   "source": [
    "data[\"Road_Type\"].value_counts()"
   ]
  },
  {
   "cell_type": "markdown",
   "id": "b33ea7d3",
   "metadata": {},
   "source": [
    "# Pedestrian_Crossing-Physical_Facilities"
   ]
  },
  {
   "cell_type": "code",
   "execution_count": 67,
   "id": "9bfffd09",
   "metadata": {},
   "outputs": [
    {
     "data": {
      "text/plain": [
       "No physical crossing within 50 meters          404552\n",
       "Pedestrian phase at traffic signal junction     35616\n",
       "Zebra crossing                                  27005\n",
       "non-junction pedestrian crossing                 9659\n",
       "Central refuge                                   1833\n",
       "Footbridge or subway                               62\n",
       "Name: Pedestrian_Crossing-Physical_Facilities, dtype: int64"
      ]
     },
     "execution_count": 67,
     "metadata": {},
     "output_type": "execute_result"
    }
   ],
   "source": [
    "data[\"Pedestrian_Crossing-Physical_Facilities\"].value_counts()"
   ]
  },
  {
   "cell_type": "code",
   "execution_count": 68,
   "id": "f18f3994",
   "metadata": {},
   "outputs": [],
   "source": [
    "pedestrian = []\n",
    "for i in list(data['Pedestrian_Crossing-Physical_Facilities'].values):\n",
    "    txt = i.lower() # converting to lowercase\n",
    "    txt = re.sub(\"-\",'_', txt)\n",
    "    txt = re.sub(\" \",'_', txt)\n",
    "    pedestrian.append(txt)"
   ]
  },
  {
   "cell_type": "code",
   "execution_count": 69,
   "id": "ace2b7aa",
   "metadata": {},
   "outputs": [],
   "source": [
    "data[\"Pedestrian_Crossing-Physical_Facilities\"] = pedestrian"
   ]
  },
  {
   "cell_type": "code",
   "execution_count": 70,
   "id": "d7c9bf14",
   "metadata": {},
   "outputs": [
    {
     "data": {
      "text/plain": [
       "no_physical_crossing_within_50_meters          404552\n",
       "pedestrian_phase_at_traffic_signal_junction     35616\n",
       "zebra_crossing                                  27005\n",
       "non_junction_pedestrian_crossing                 9659\n",
       "central_refuge                                   1833\n",
       "footbridge_or_subway                               62\n",
       "Name: Pedestrian_Crossing-Physical_Facilities, dtype: int64"
      ]
     },
     "execution_count": 70,
     "metadata": {},
     "output_type": "execute_result"
    }
   ],
   "source": [
    "data[\"Pedestrian_Crossing-Physical_Facilities\"].value_counts()"
   ]
  },
  {
   "cell_type": "markdown",
   "id": "25a6e21a",
   "metadata": {},
   "source": [
    "# Light_Conditions:"
   ]
  },
  {
   "cell_type": "code",
   "execution_count": 71,
   "id": "71970928",
   "metadata": {},
   "outputs": [],
   "source": [
    "light = []\n",
    "for i in list(data['Light_Conditions'].values):\n",
    "    txt = i.lower() # converting to lowercase\n",
    "    txt = re.sub(\":\",'', txt)\n",
    "    txt = re.sub(\" \",'_', txt)\n",
    "    light.append(txt)"
   ]
  },
  {
   "cell_type": "code",
   "execution_count": 72,
   "id": "79980e60",
   "metadata": {},
   "outputs": [],
   "source": [
    "data[\"Light_Conditions\"] = light"
   ]
  },
  {
   "cell_type": "markdown",
   "id": "9a907ca6",
   "metadata": {},
   "source": [
    "# Weather_Conditions:"
   ]
  },
  {
   "cell_type": "code",
   "execution_count": 73,
   "id": "5ac006fe",
   "metadata": {},
   "outputs": [],
   "source": [
    "weather = []\n",
    "for i in list(data['Weather_Conditions'].values):\n",
    "    txt = i.lower() # converting to lowercase\n",
    "    txt = re.sub(\" \",'_', txt)\n",
    "    weather.append(txt)"
   ]
  },
  {
   "cell_type": "code",
   "execution_count": 74,
   "id": "7ef0fdde",
   "metadata": {},
   "outputs": [],
   "source": [
    "data['Weather_Conditions'] = weather"
   ]
  },
  {
   "cell_type": "markdown",
   "id": "f0bbf2aa",
   "metadata": {},
   "source": [
    "# Road_Surface_Conditions:"
   ]
  },
  {
   "cell_type": "code",
   "execution_count": 75,
   "id": "d0fe9d14",
   "metadata": {},
   "outputs": [],
   "source": [
    "road_surface = []\n",
    "for i in list(data['Road_Surface_Conditions'].values):\n",
    "    if i == 'Flood (Over 3cm of water)':\n",
    "        road_surface.append(\"flood\")\n",
    "    else:\n",
    "        txt = i.lower() # converting to lowercase\n",
    "        txt = re.sub(\"/\",'_', txt)\n",
    "        txt = re.sub(\" \",'_', txt)\n",
    "        txt = re.sub(\"()\",\"\",txt)\n",
    "        road_surface.append(txt)"
   ]
  },
  {
   "cell_type": "code",
   "execution_count": 76,
   "id": "f736986b",
   "metadata": {},
   "outputs": [],
   "source": [
    "data[\"Road_Surface_Conditions\"] = road_surface"
   ]
  },
  {
   "cell_type": "markdown",
   "id": "487e1756",
   "metadata": {},
   "source": [
    "# State:"
   ]
  },
  {
   "cell_type": "code",
   "execution_count": 78,
   "id": "d47212b1",
   "metadata": {},
   "outputs": [],
   "source": [
    "state = []\n",
    "for i in list(data['state'].values):\n",
    "    txt = i.lower() # converting to lowercase\n",
    "    txt = re.sub(\"/\",' ', txt)\n",
    "    txt = re.sub(\" \",'', txt)\n",
    "    state.append(txt)"
   ]
  },
  {
   "cell_type": "code",
   "execution_count": 79,
   "id": "a08b6713",
   "metadata": {},
   "outputs": [],
   "source": [
    "data[\"state\"] = state"
   ]
  },
  {
   "cell_type": "code",
   "execution_count": null,
   "id": "94d04885",
   "metadata": {},
   "outputs": [],
   "source": [
    "#data.to_csv(\"clean_data.csv\")"
   ]
  },
  {
   "cell_type": "markdown",
   "id": "ce17c3b9",
   "metadata": {},
   "source": [
    "# Preprocessing:"
   ]
  },
  {
   "cell_type": "code",
   "execution_count": 2,
   "id": "38975d62",
   "metadata": {},
   "outputs": [],
   "source": [
    "data = pd.read_csv(\"clean_data.csv\")"
   ]
  },
  {
   "cell_type": "code",
   "execution_count": 3,
   "id": "04f1b81f",
   "metadata": {},
   "outputs": [],
   "source": [
    "#categorical = [\"1st_Road_Class\",\"Road_Type\",\"2nd_Road_Class\",\"Pedestrian_Crossing-Physical_Facilities\",\n",
    "              # \"Light_Conditions\",\"Weather_Conditions\",\"Road_Surface_Conditions\",\"Special_Conditions_at_Site\",\n",
    "             # \"Urban_or_Rural_Area\",\"state\"]+\n",
    "        \n",
    "\n",
    "#numerical = [\"Police_Force\",\"Number_of_Vehicles\",\"Number_of_Casualties\",\"Speed_limit\"]\n",
    "\n",
    "#cyclical = [\"Day_of_Week\",\"Month\",\"Time\"]\n",
    "\n",
    "#label = [\"Local_Authority_(District)\",\"Local_Authority_(Highway)\",\"1st_Road_Number\",\"postcode\"]"
   ]
  },
  {
   "cell_type": "code",
   "execution_count": 3,
   "id": "b86f4c84",
   "metadata": {},
   "outputs": [
    {
     "data": {
      "text/plain": [
       "Index(['Unnamed: 0.1', 'Unnamed: 0', 'Accident_ID', 'Police_Force',\n",
       "       'Number_of_Vehicles', 'Number_of_Casualties', 'Day_of_Week', 'Time',\n",
       "       'Local_Authority_(District)', 'Local_Authority_(Highway)',\n",
       "       '1st_Road_Class', '1st_Road_Number', 'Road_Type', 'Speed_limit',\n",
       "       '2nd_Road_Class', 'Pedestrian_Crossing-Physical_Facilities',\n",
       "       'Light_Conditions', 'Weather_Conditions', 'Road_Surface_Conditions',\n",
       "       'Special_Conditions_at_Site', 'Urban_or_Rural_Area', 'state',\n",
       "       'postcode', 'Month'],\n",
       "      dtype='object')"
      ]
     },
     "execution_count": 3,
     "metadata": {},
     "output_type": "execute_result"
    }
   ],
   "source": [
    "data.columns"
   ]
  },
  {
   "cell_type": "code",
   "execution_count": 4,
   "id": "8884bf9c",
   "metadata": {},
   "outputs": [
    {
     "data": {
      "text/html": [
       "<div>\n",
       "<style scoped>\n",
       "    .dataframe tbody tr th:only-of-type {\n",
       "        vertical-align: middle;\n",
       "    }\n",
       "\n",
       "    .dataframe tbody tr th {\n",
       "        vertical-align: top;\n",
       "    }\n",
       "\n",
       "    .dataframe thead th {\n",
       "        text-align: right;\n",
       "    }\n",
       "</style>\n",
       "<table border=\"1\" class=\"dataframe\">\n",
       "  <thead>\n",
       "    <tr style=\"text-align: right;\">\n",
       "      <th></th>\n",
       "      <th>Unnamed: 0.1</th>\n",
       "      <th>Unnamed: 0</th>\n",
       "      <th>Accident_ID</th>\n",
       "      <th>Police_Force</th>\n",
       "      <th>Number_of_Vehicles</th>\n",
       "      <th>Number_of_Casualties</th>\n",
       "      <th>Day_of_Week</th>\n",
       "      <th>Time</th>\n",
       "      <th>Local_Authority_(District)</th>\n",
       "      <th>Local_Authority_(Highway)</th>\n",
       "      <th>...</th>\n",
       "      <th>2nd_Road_Class</th>\n",
       "      <th>Pedestrian_Crossing-Physical_Facilities</th>\n",
       "      <th>Light_Conditions</th>\n",
       "      <th>Weather_Conditions</th>\n",
       "      <th>Road_Surface_Conditions</th>\n",
       "      <th>Special_Conditions_at_Site</th>\n",
       "      <th>Urban_or_Rural_Area</th>\n",
       "      <th>state</th>\n",
       "      <th>postcode</th>\n",
       "      <th>Month</th>\n",
       "    </tr>\n",
       "  </thead>\n",
       "  <tbody>\n",
       "    <tr>\n",
       "      <th>0</th>\n",
       "      <td>0</td>\n",
       "      <td>0</td>\n",
       "      <td>1</td>\n",
       "      <td>34</td>\n",
       "      <td>2</td>\n",
       "      <td>1</td>\n",
       "      <td>7</td>\n",
       "      <td>Afternoon</td>\n",
       "      <td>344</td>\n",
       "      <td>E10000032</td>\n",
       "      <td>...</td>\n",
       "      <td>-1</td>\n",
       "      <td>no_physical_crossing_within_50_meters</td>\n",
       "      <td>daylight_street_light_present</td>\n",
       "      <td>fine_without_high_winds</td>\n",
       "      <td>dry</td>\n",
       "      <td>ol_or_diesel</td>\n",
       "      <td>1</td>\n",
       "      <td>england</td>\n",
       "      <td>OX3 9UP</td>\n",
       "      <td>12</td>\n",
       "    </tr>\n",
       "    <tr>\n",
       "      <th>1</th>\n",
       "      <td>1</td>\n",
       "      <td>1</td>\n",
       "      <td>2</td>\n",
       "      <td>5</td>\n",
       "      <td>2</td>\n",
       "      <td>1</td>\n",
       "      <td>4</td>\n",
       "      <td>Morning</td>\n",
       "      <td>102</td>\n",
       "      <td>E09000026</td>\n",
       "      <td>...</td>\n",
       "      <td>-1</td>\n",
       "      <td>no_physical_crossing_within_50_meters</td>\n",
       "      <td>daylight_street_light_present</td>\n",
       "      <td>raining_without_high_winds</td>\n",
       "      <td>dry</td>\n",
       "      <td>normal</td>\n",
       "      <td>1</td>\n",
       "      <td>england</td>\n",
       "      <td>S35 4EZ</td>\n",
       "      <td>2</td>\n",
       "    </tr>\n",
       "    <tr>\n",
       "      <th>2</th>\n",
       "      <td>2</td>\n",
       "      <td>2</td>\n",
       "      <td>3</td>\n",
       "      <td>1</td>\n",
       "      <td>2</td>\n",
       "      <td>1</td>\n",
       "      <td>4</td>\n",
       "      <td>Afternoon</td>\n",
       "      <td>531</td>\n",
       "      <td>E10000016</td>\n",
       "      <td>...</td>\n",
       "      <td>6</td>\n",
       "      <td>zebra_crossing</td>\n",
       "      <td>daylight_street_light_present</td>\n",
       "      <td>fine_without_high_winds</td>\n",
       "      <td>dry</td>\n",
       "      <td>normal</td>\n",
       "      <td>1</td>\n",
       "      <td>england</td>\n",
       "      <td>BN21 2XR</td>\n",
       "      <td>2</td>\n",
       "    </tr>\n",
       "    <tr>\n",
       "      <th>3</th>\n",
       "      <td>3</td>\n",
       "      <td>3</td>\n",
       "      <td>4</td>\n",
       "      <td>1</td>\n",
       "      <td>1</td>\n",
       "      <td>1</td>\n",
       "      <td>1</td>\n",
       "      <td>Afternoon</td>\n",
       "      <td>7</td>\n",
       "      <td>E08000035</td>\n",
       "      <td>...</td>\n",
       "      <td>6</td>\n",
       "      <td>no_physical_crossing_within_50_meters</td>\n",
       "      <td>daylight_street_light_present</td>\n",
       "      <td>fine_without_high_winds</td>\n",
       "      <td>dry</td>\n",
       "      <td>roadworks</td>\n",
       "      <td>1</td>\n",
       "      <td>england</td>\n",
       "      <td>TA20 3PT</td>\n",
       "      <td>6</td>\n",
       "    </tr>\n",
       "  </tbody>\n",
       "</table>\n",
       "<p>4 rows × 24 columns</p>\n",
       "</div>"
      ],
      "text/plain": [
       "   Unnamed: 0.1  Unnamed: 0  Accident_ID  Police_Force  Number_of_Vehicles  \\\n",
       "0             0           0            1            34                   2   \n",
       "1             1           1            2             5                   2   \n",
       "2             2           2            3             1                   2   \n",
       "3             3           3            4             1                   1   \n",
       "\n",
       "   Number_of_Casualties  Day_of_Week       Time  Local_Authority_(District)  \\\n",
       "0                     1            7  Afternoon                         344   \n",
       "1                     1            4    Morning                         102   \n",
       "2                     1            4  Afternoon                         531   \n",
       "3                     1            1  Afternoon                           7   \n",
       "\n",
       "  Local_Authority_(Highway)  ...  2nd_Road_Class  \\\n",
       "0                 E10000032  ...              -1   \n",
       "1                 E09000026  ...              -1   \n",
       "2                 E10000016  ...               6   \n",
       "3                 E08000035  ...               6   \n",
       "\n",
       "   Pedestrian_Crossing-Physical_Facilities               Light_Conditions  \\\n",
       "0    no_physical_crossing_within_50_meters  daylight_street_light_present   \n",
       "1    no_physical_crossing_within_50_meters  daylight_street_light_present   \n",
       "2                           zebra_crossing  daylight_street_light_present   \n",
       "3    no_physical_crossing_within_50_meters  daylight_street_light_present   \n",
       "\n",
       "           Weather_Conditions  Road_Surface_Conditions  \\\n",
       "0     fine_without_high_winds                      dry   \n",
       "1  raining_without_high_winds                      dry   \n",
       "2     fine_without_high_winds                      dry   \n",
       "3     fine_without_high_winds                      dry   \n",
       "\n",
       "  Special_Conditions_at_Site Urban_or_Rural_Area    state  postcode Month  \n",
       "0               ol_or_diesel                   1  england   OX3 9UP    12  \n",
       "1                     normal                   1  england   S35 4EZ     2  \n",
       "2                     normal                   1  england  BN21 2XR     2  \n",
       "3                  roadworks                   1  england  TA20 3PT     6  \n",
       "\n",
       "[4 rows x 24 columns]"
      ]
     },
     "execution_count": 4,
     "metadata": {},
     "output_type": "execute_result"
    }
   ],
   "source": [
    "data.head(4)"
   ]
  },
  {
   "cell_type": "code",
   "execution_count": 5,
   "id": "384a504b",
   "metadata": {},
   "outputs": [],
   "source": [
    "x = data.drop([\"Unnamed: 0.1\",\"Unnamed: 0\",\"Number_of_Casualties\"], axis=1) \n",
    "y = data[\"Number_of_Casualties\"] # Treating casualities as target variable for now."
   ]
  },
  {
   "cell_type": "code",
   "execution_count": 6,
   "id": "2bef8ace",
   "metadata": {},
   "outputs": [],
   "source": [
    "# Doing stratified splitting:\n",
    "strat_shuffle = StratifiedShuffleSplit(test_size = 0.25, random_state = 0)\n",
    "\n",
    "train_index, test_index = next(strat_shuffle.split(x,y))"
   ]
  },
  {
   "cell_type": "code",
   "execution_count": 7,
   "id": "bf60e537",
   "metadata": {},
   "outputs": [
    {
     "data": {
      "text/plain": [
       "array([409840, 283848, 368007, ...,  40690, 332406, 336456], dtype=int64)"
      ]
     },
     "execution_count": 7,
     "metadata": {},
     "output_type": "execute_result"
    }
   ],
   "source": [
    "train_index"
   ]
  },
  {
   "cell_type": "code",
   "execution_count": 8,
   "id": "28f13f12",
   "metadata": {},
   "outputs": [
    {
     "name": "stdout",
     "output_type": "stream",
     "text": [
      "Train data : (359045, 21)\n",
      "Test data : (119682, 21)\n"
     ]
    }
   ],
   "source": [
    "x_train = data.loc[train_index,x.columns]\n",
    "y_train = data.loc[train_index,\"Number_of_Casualties\"]\n",
    "\n",
    "x_test = data.loc[test_index,x.columns]\n",
    "y_test = data.loc[test_index,\"Number_of_Casualties\"]\n",
    "\n",
    "print(\"Train data :\",x_train.shape)\n",
    "print(\"Test data :\",x_test.shape)"
   ]
  },
  {
   "cell_type": "markdown",
   "id": "7585aef6",
   "metadata": {},
   "source": [
    "# Setting up Target Variable:"
   ]
  },
  {
   "cell_type": "code",
   "execution_count": 9,
   "id": "34853661",
   "metadata": {},
   "outputs": [],
   "source": [
    "# Concat features and targets to form new target variable\n",
    "xy_train = pd.concat([x_train,y_train], axis = 1)\n",
    "xy_test = pd.concat([x_test,y_test], axis = 1)"
   ]
  },
  {
   "cell_type": "code",
   "execution_count": 10,
   "id": "b88923c3",
   "metadata": {},
   "outputs": [],
   "source": [
    "def acc_risk_idx(data):\n",
    "    \"\"\"\n",
    "    This function calculates the accident risk index \n",
    "    \n",
    "    \"\"\"\n",
    "    \n",
    "    group_postcode = data.groupby(by = 'postcode') # grouping by postcode\n",
    "    \n",
    "    # for each postcode, the following returns the accident risk index\n",
    "    acc_risk_index = group_postcode['Number_of_Casualties'].sum()/group_postcode['Accident_ID'].count()\n",
    "    acc_risk_index = dict(acc_risk_index) # creating a dictionary to access the risk index for given postcode\n",
    "    result = [acc_risk_index[res] for res in data[\"postcode\"].values] # return a list of risk indexes for \n",
    "                                                                      # every postcode in dataframe\n",
    "    return result"
   ]
  },
  {
   "cell_type": "code",
   "execution_count": 11,
   "id": "27a826b0",
   "metadata": {},
   "outputs": [],
   "source": [
    "train_acc_risk = acc_risk_idx(xy_train) # storing the calculated risk index for train data\n",
    "test_acc_risk = acc_risk_idx(xy_test) # storing the calculated risk index for test data"
   ]
  },
  {
   "cell_type": "code",
   "execution_count": 12,
   "id": "3898a244",
   "metadata": {},
   "outputs": [],
   "source": [
    "# adding the target variable to train & test set.\n",
    "xy_train[\"accident_risk_index\"] = train_acc_risk\n",
    "xy_test[\"accident_risk_index\"] = test_acc_risk"
   ]
  },
  {
   "cell_type": "code",
   "execution_count": 13,
   "id": "f24c39fe",
   "metadata": {},
   "outputs": [],
   "source": [
    "# Creating the final dataframe for modeling.\n",
    "X_train = xy_train.drop([\"Accident_ID\",\"accident_risk_index\"], axis = 1)\n",
    "Y_train = xy_train[\"accident_risk_index\"]\n",
    "\n",
    "X_test = xy_test.drop([\"Accident_ID\",\"accident_risk_index\"], axis = 1)\n",
    "Y_test = xy_test[\"accident_risk_index\"]"
   ]
  },
  {
   "cell_type": "code",
   "execution_count": 14,
   "id": "34556c42",
   "metadata": {},
   "outputs": [],
   "source": [
    "# Resetting the indexes\n",
    "X_train = X_train.reset_index().drop([\"index\"], axis=1)\n",
    "Y_train = Y_train.reset_index().drop([\"index\"], axis=1)\n",
    "X_test = X_test.reset_index().drop([\"index\"], axis=1)\n",
    "Y_test = Y_test.reset_index().drop([\"index\"], axis=1)"
   ]
  },
  {
   "cell_type": "code",
   "execution_count": 15,
   "id": "c957198d",
   "metadata": {},
   "outputs": [],
   "source": [
    "with open('Y_train', 'wb') as fp:\n",
    "    pickle.dump(Y_train, fp)"
   ]
  },
  {
   "cell_type": "code",
   "execution_count": 16,
   "id": "8023431a",
   "metadata": {},
   "outputs": [],
   "source": [
    "with open('Y_test', 'wb') as fp:\n",
    "    pickle.dump(Y_test, fp)"
   ]
  },
  {
   "cell_type": "markdown",
   "id": "1d89dce0",
   "metadata": {},
   "source": [
    "# Cyclical Encoding:"
   ]
  },
  {
   "cell_type": "markdown",
   "id": "440eeba5",
   "metadata": {},
   "source": [
    "- Performing the cyclical encoding on **Month and Day of the week**"
   ]
  },
  {
   "cell_type": "code",
   "execution_count": 17,
   "id": "dd80e1b2",
   "metadata": {},
   "outputs": [],
   "source": [
    "# Adding the encoded values to train set.\n",
    "X_train['month_sin'] = np.sin((X_train.Month -1)*(2.*np.pi/12))\n",
    "X_train['month_cos'] = np.cos((X_train.Month -1)*(2.*np.pi/12))\n",
    "X_train['weekday_sin'] = np.sin((X_train.Day_of_Week-1)*(2.*np.pi/7))\n",
    "X_train['weekday_cos'] = np.cos((X_train.Day_of_Week-1)*(2.*np.pi/7))"
   ]
  },
  {
   "cell_type": "code",
   "execution_count": 18,
   "id": "3820e5b4",
   "metadata": {},
   "outputs": [],
   "source": [
    "# Adding the encoded values to test set.\n",
    "X_test['month_sin'] = np.sin((X_test.Month -1)*(2.*np.pi/12))\n",
    "X_test['month_cos'] = np.cos((X_test.Month -1)*(2.*np.pi/12))\n",
    "X_test['weekday_sin'] = np.sin((X_test.Day_of_Week-1)*(2.*np.pi/7))\n",
    "X_test['weekday_cos'] = np.cos((X_test.Day_of_Week-1)*(2.*np.pi/7))"
   ]
  },
  {
   "cell_type": "code",
   "execution_count": 19,
   "id": "245785af",
   "metadata": {},
   "outputs": [],
   "source": [
    "# Dropping the original features once they are encoded\n",
    "X_train.drop([\"Month\",\"Day_of_Week\"], axis = 1, inplace = True)\n",
    "X_test.drop([\"Month\",\"Day_of_Week\"], axis = 1, inplace = True)"
   ]
  },
  {
   "cell_type": "markdown",
   "id": "dfd2812b",
   "metadata": {},
   "source": [
    "# Normalization:"
   ]
  },
  {
   "cell_type": "markdown",
   "id": "10b03d5c",
   "metadata": {},
   "source": [
    "- Scaling down the numerical features.."
   ]
  },
  {
   "cell_type": "code",
   "execution_count": 20,
   "id": "ad68e72d",
   "metadata": {},
   "outputs": [],
   "source": [
    "numerical = [\"Police_Force\",\"Number_of_Vehicles\",\"Number_of_Casualties\",\"Speed_limit\"]\n",
    "scaled = MinMaxScaler()\n",
    "X_train[numerical] = scaled.fit_transform(X_train[numerical])\n",
    "X_test[numerical] = scaled.transform(X_test[numerical])"
   ]
  },
  {
   "cell_type": "code",
   "execution_count": 21,
   "id": "5e05929e",
   "metadata": {},
   "outputs": [
    {
     "data": {
      "text/html": [
       "<div>\n",
       "<style scoped>\n",
       "    .dataframe tbody tr th:only-of-type {\n",
       "        vertical-align: middle;\n",
       "    }\n",
       "\n",
       "    .dataframe tbody tr th {\n",
       "        vertical-align: top;\n",
       "    }\n",
       "\n",
       "    .dataframe thead th {\n",
       "        text-align: right;\n",
       "    }\n",
       "</style>\n",
       "<table border=\"1\" class=\"dataframe\">\n",
       "  <thead>\n",
       "    <tr style=\"text-align: right;\">\n",
       "      <th></th>\n",
       "      <th>Police_Force</th>\n",
       "      <th>Number_of_Vehicles</th>\n",
       "      <th>Number_of_Casualties</th>\n",
       "      <th>Speed_limit</th>\n",
       "    </tr>\n",
       "  </thead>\n",
       "  <tbody>\n",
       "    <tr>\n",
       "      <th>0</th>\n",
       "      <td>0.350515</td>\n",
       "      <td>0.000000</td>\n",
       "      <td>0.0</td>\n",
       "      <td>0.2</td>\n",
       "    </tr>\n",
       "    <tr>\n",
       "      <th>1</th>\n",
       "      <td>0.061856</td>\n",
       "      <td>0.333333</td>\n",
       "      <td>0.0</td>\n",
       "      <td>0.2</td>\n",
       "    </tr>\n",
       "    <tr>\n",
       "      <th>2</th>\n",
       "      <td>0.422680</td>\n",
       "      <td>0.333333</td>\n",
       "      <td>0.0</td>\n",
       "      <td>0.2</td>\n",
       "    </tr>\n",
       "  </tbody>\n",
       "</table>\n",
       "</div>"
      ],
      "text/plain": [
       "   Police_Force  Number_of_Vehicles  Number_of_Casualties  Speed_limit\n",
       "0      0.350515            0.000000                   0.0          0.2\n",
       "1      0.061856            0.333333                   0.0          0.2\n",
       "2      0.422680            0.333333                   0.0          0.2"
      ]
     },
     "execution_count": 21,
     "metadata": {},
     "output_type": "execute_result"
    }
   ],
   "source": [
    "X_train[numerical].head(3)"
   ]
  },
  {
   "cell_type": "markdown",
   "id": "e77949bb",
   "metadata": {},
   "source": [
    "# CatBoost Encoder:"
   ]
  },
  {
   "cell_type": "code",
   "execution_count": 22,
   "id": "f6a254a9",
   "metadata": {},
   "outputs": [],
   "source": [
    "import category_encoders as ce"
   ]
  },
  {
   "cell_type": "code",
   "execution_count": 23,
   "id": "fd684a16",
   "metadata": {},
   "outputs": [],
   "source": [
    "cbe_encoder = ce.cat_boost.CatBoostEncoder()"
   ]
  },
  {
   "cell_type": "code",
   "execution_count": 24,
   "id": "62aa9bfa",
   "metadata": {},
   "outputs": [],
   "source": [
    "label = [\"Local_Authority_(District)\",\"Local_Authority_(Highway)\",\"1st_Road_Number\",\"postcode\"]"
   ]
  },
  {
   "cell_type": "code",
   "execution_count": 25,
   "id": "7c3c5e7d",
   "metadata": {},
   "outputs": [],
   "source": [
    "X_train[label] = cbe_encoder.fit_transform(X_train[label],Y_train)\n",
    "X_test[label] = cbe_encoder.transform(X_test[label],Y_test)"
   ]
  },
  {
   "cell_type": "code",
   "execution_count": 26,
   "id": "055b6a52",
   "metadata": {},
   "outputs": [
    {
     "data": {
      "text/html": [
       "<div>\n",
       "<style scoped>\n",
       "    .dataframe tbody tr th:only-of-type {\n",
       "        vertical-align: middle;\n",
       "    }\n",
       "\n",
       "    .dataframe tbody tr th {\n",
       "        vertical-align: top;\n",
       "    }\n",
       "\n",
       "    .dataframe thead th {\n",
       "        text-align: right;\n",
       "    }\n",
       "</style>\n",
       "<table border=\"1\" class=\"dataframe\">\n",
       "  <thead>\n",
       "    <tr style=\"text-align: right;\">\n",
       "      <th></th>\n",
       "      <th>Local_Authority_(District)</th>\n",
       "      <th>Local_Authority_(Highway)</th>\n",
       "      <th>1st_Road_Number</th>\n",
       "      <th>postcode</th>\n",
       "    </tr>\n",
       "  </thead>\n",
       "  <tbody>\n",
       "    <tr>\n",
       "      <th>0</th>\n",
       "      <td>320</td>\n",
       "      <td>1.463527</td>\n",
       "      <td>409</td>\n",
       "      <td>1.463527</td>\n",
       "    </tr>\n",
       "    <tr>\n",
       "      <th>1</th>\n",
       "      <td>95</td>\n",
       "      <td>1.463527</td>\n",
       "      <td>5244</td>\n",
       "      <td>1.463527</td>\n",
       "    </tr>\n",
       "    <tr>\n",
       "      <th>2</th>\n",
       "      <td>9</td>\n",
       "      <td>1.463527</td>\n",
       "      <td>17</td>\n",
       "      <td>1.463527</td>\n",
       "    </tr>\n",
       "  </tbody>\n",
       "</table>\n",
       "</div>"
      ],
      "text/plain": [
       "   Local_Authority_(District)  Local_Authority_(Highway)  1st_Road_Number  \\\n",
       "0                         320                   1.463527              409   \n",
       "1                          95                   1.463527             5244   \n",
       "2                           9                   1.463527               17   \n",
       "\n",
       "   postcode  \n",
       "0  1.463527  \n",
       "1  1.463527  \n",
       "2  1.463527  "
      ]
     },
     "execution_count": 26,
     "metadata": {},
     "output_type": "execute_result"
    }
   ],
   "source": [
    "X_train[label].head(3)"
   ]
  },
  {
   "cell_type": "markdown",
   "id": "d9ff66ce",
   "metadata": {},
   "source": [
    "# One Hot Encoding:"
   ]
  },
  {
   "cell_type": "code",
   "execution_count": 27,
   "id": "1c2f76c0",
   "metadata": {},
   "outputs": [],
   "source": [
    "def one_hot_encoding(feature,X_train,X_test):\n",
    "    \"\"\"\n",
    "    Given a feature this function returns one hot encoded values\n",
    "    \n",
    "    \"\"\"\n",
    "    ONE = OneHotEncoder(sparse = False, handle_unknown = 'ignore')\n",
    "    train = ONE.fit_transform(X_train[(feature)].values.reshape(-1,1))\n",
    "    test = ONE.transform(X_test[(feature)].values.reshape(-1,1))\n",
    "    return train,test"
   ]
  },
  {
   "cell_type": "code",
   "execution_count": 28,
   "id": "976315ac",
   "metadata": {},
   "outputs": [],
   "source": [
    "categorical = [\"1st_Road_Class\",\"Road_Type\",\"2nd_Road_Class\",\"Pedestrian_Crossing-Physical_Facilities\",\n",
    "               \"Light_Conditions\",\"Weather_Conditions\",\"Road_Surface_Conditions\",\"Special_Conditions_at_Site\",\n",
    "              \"Urban_or_Rural_Area\",\"state\",\"Time\"]"
   ]
  },
  {
   "cell_type": "markdown",
   "id": "6ff52de5",
   "metadata": {},
   "source": [
    "- The following lines of codes, performs the One hot encoding for above categorical features."
   ]
  },
  {
   "cell_type": "markdown",
   "id": "005e9c80",
   "metadata": {},
   "source": [
    "# \"1st_Road_Class\""
   ]
  },
  {
   "cell_type": "code",
   "execution_count": 29,
   "id": "e95ba86b",
   "metadata": {},
   "outputs": [],
   "source": [
    "road_1_train, road_1_test = one_hot_encoding(\"1st_Road_Class\",X_train,X_test)\n",
    "X_train.drop([\"1st_Road_Class\"],axis = 1, inplace = True)\n",
    "X_test.drop([\"1st_Road_Class\"],axis = 1, inplace = True)"
   ]
  },
  {
   "cell_type": "markdown",
   "id": "f8839fd7",
   "metadata": {},
   "source": [
    "# \"Road_Type\""
   ]
  },
  {
   "cell_type": "code",
   "execution_count": 30,
   "id": "742148ee",
   "metadata": {},
   "outputs": [],
   "source": [
    "roadtype_train, roadtype_test = one_hot_encoding(\"Road_Type\",X_train,X_test)\n",
    "X_train.drop([\"Road_Type\"],axis = 1, inplace = True)\n",
    "X_test.drop([\"Road_Type\"],axis = 1, inplace = True)"
   ]
  },
  {
   "cell_type": "markdown",
   "id": "e6e26e9f",
   "metadata": {},
   "source": [
    "# \"2nd_Road_Class\""
   ]
  },
  {
   "cell_type": "code",
   "execution_count": 31,
   "id": "54566fea",
   "metadata": {},
   "outputs": [],
   "source": [
    "road_2_train, road_2_test = one_hot_encoding(\"2nd_Road_Class\",X_train,X_test)\n",
    "X_train.drop([\"2nd_Road_Class\"],axis = 1, inplace = True)\n",
    "X_test.drop([\"2nd_Road_Class\"],axis = 1, inplace = True)"
   ]
  },
  {
   "cell_type": "markdown",
   "id": "239ac65a",
   "metadata": {},
   "source": [
    "# \"Pedestrian_Crossing-Physical_Facilities\""
   ]
  },
  {
   "cell_type": "code",
   "execution_count": 32,
   "id": "ca3074e0",
   "metadata": {},
   "outputs": [],
   "source": [
    "pedestrian_train, pedestrian_test = one_hot_encoding(\"Pedestrian_Crossing-Physical_Facilities\",X_train,X_test)\n",
    "X_train.drop([\"Pedestrian_Crossing-Physical_Facilities\"],axis = 1, inplace = True)\n",
    "X_test.drop([\"Pedestrian_Crossing-Physical_Facilities\"],axis = 1, inplace = True)"
   ]
  },
  {
   "cell_type": "markdown",
   "id": "1cedc05e",
   "metadata": {},
   "source": [
    "# \"Light_Conditions\""
   ]
  },
  {
   "cell_type": "code",
   "execution_count": 33,
   "id": "b5bc31d3",
   "metadata": {},
   "outputs": [],
   "source": [
    "lc_train, lc_test = one_hot_encoding(\"Light_Conditions\",X_train,X_test)\n",
    "X_train.drop([\"Light_Conditions\"],axis = 1, inplace = True)\n",
    "X_test.drop([\"Light_Conditions\"],axis = 1, inplace = True)"
   ]
  },
  {
   "cell_type": "markdown",
   "id": "087d58d5",
   "metadata": {},
   "source": [
    "# \"Weather_Conditions\""
   ]
  },
  {
   "cell_type": "code",
   "execution_count": 34,
   "id": "8be25444",
   "metadata": {},
   "outputs": [],
   "source": [
    "wc_train, wc_test = one_hot_encoding(\"Weather_Conditions\",X_train,X_test)\n",
    "X_train.drop([\"Weather_Conditions\"],axis = 1, inplace = True)\n",
    "X_test.drop([\"Weather_Conditions\"],axis = 1, inplace = True)"
   ]
  },
  {
   "cell_type": "markdown",
   "id": "2e2b4def",
   "metadata": {},
   "source": [
    "# \"Road_Surface_Conditions\""
   ]
  },
  {
   "cell_type": "code",
   "execution_count": 35,
   "id": "6b1d46f8",
   "metadata": {},
   "outputs": [],
   "source": [
    "rsc_train, rsc_test = one_hot_encoding(\"Road_Surface_Conditions\",X_train,X_test)\n",
    "X_train.drop([\"Road_Surface_Conditions\"],axis = 1, inplace = True)\n",
    "X_test.drop([\"Road_Surface_Conditions\"],axis = 1, inplace = True)"
   ]
  },
  {
   "cell_type": "markdown",
   "id": "d789f942",
   "metadata": {},
   "source": [
    "# \"Special_Conditions_at_Site\""
   ]
  },
  {
   "cell_type": "code",
   "execution_count": 36,
   "id": "cc235140",
   "metadata": {},
   "outputs": [],
   "source": [
    "scs_train, scs_test = one_hot_encoding(\"Special_Conditions_at_Site\",X_train,X_test)\n",
    "X_train.drop([\"Special_Conditions_at_Site\"],axis = 1, inplace = True)\n",
    "X_test.drop([\"Special_Conditions_at_Site\"],axis = 1, inplace = True)"
   ]
  },
  {
   "cell_type": "markdown",
   "id": "d991700f",
   "metadata": {},
   "source": [
    "# \"Urban_or_Rural_Area\""
   ]
  },
  {
   "cell_type": "code",
   "execution_count": 37,
   "id": "403b2f2c",
   "metadata": {},
   "outputs": [],
   "source": [
    "urban_train, urban_test = one_hot_encoding(\"Urban_or_Rural_Area\",X_train,X_test)\n",
    "X_train.drop([\"Urban_or_Rural_Area\"],axis = 1, inplace = True)\n",
    "X_test.drop([\"Urban_or_Rural_Area\"],axis = 1, inplace = True)"
   ]
  },
  {
   "cell_type": "markdown",
   "id": "c9379b44",
   "metadata": {},
   "source": [
    "# \"state\""
   ]
  },
  {
   "cell_type": "code",
   "execution_count": 38,
   "id": "8d30c82c",
   "metadata": {},
   "outputs": [],
   "source": [
    "state_train, state_test = one_hot_encoding(\"state\",X_train,X_test)\n",
    "X_train.drop([\"state\"],axis = 1, inplace = True)\n",
    "X_test.drop([\"state\"],axis = 1, inplace = True)"
   ]
  },
  {
   "cell_type": "markdown",
   "id": "f7f46123",
   "metadata": {},
   "source": [
    "# \"Time\""
   ]
  },
  {
   "cell_type": "code",
   "execution_count": 39,
   "id": "fdc515f5",
   "metadata": {},
   "outputs": [],
   "source": [
    "time_train, time_test = one_hot_encoding(\"Time\",X_train,X_test)\n",
    "X_train.drop([\"Time\"],axis = 1, inplace = True)\n",
    "X_test.drop([\"Time\"],axis = 1, inplace = True)"
   ]
  },
  {
   "cell_type": "markdown",
   "id": "96630123",
   "metadata": {},
   "source": [
    "# Concatenating categorical features:"
   ]
  },
  {
   "cell_type": "code",
   "execution_count": 40,
   "id": "e194fdf9",
   "metadata": {},
   "outputs": [],
   "source": [
    "cat_train = np.hstack((road_1_train,roadtype_train,road_2_train,pedestrian_train,lc_train,wc_train,rsc_train,scs_train,urban_train,state_train,time_train))\n",
    "cat_test = np.hstack((road_1_test,roadtype_test,road_2_test,pedestrian_test,lc_test,wc_test,rsc_test,scs_test,urban_test,state_test,time_test))"
   ]
  },
  {
   "cell_type": "code",
   "execution_count": 41,
   "id": "d6e43f8a",
   "metadata": {},
   "outputs": [],
   "source": [
    "cat_train_data = pd.DataFrame(cat_train)\n",
    "cat_test_data = pd.DataFrame(cat_test)"
   ]
  },
  {
   "cell_type": "code",
   "execution_count": 42,
   "id": "07f19f3c",
   "metadata": {},
   "outputs": [
    {
     "data": {
      "text/plain": [
       "(359045, 12)"
      ]
     },
     "execution_count": 42,
     "metadata": {},
     "output_type": "execute_result"
    }
   ],
   "source": [
    "X_train.shape"
   ]
  },
  {
   "cell_type": "code",
   "execution_count": 43,
   "id": "dcbf9c51",
   "metadata": {},
   "outputs": [
    {
     "data": {
      "text/plain": [
       "(359045, 58)"
      ]
     },
     "execution_count": 43,
     "metadata": {},
     "output_type": "execute_result"
    }
   ],
   "source": [
    "cat_train_data.shape"
   ]
  },
  {
   "cell_type": "code",
   "execution_count": 44,
   "id": "ca7c4750",
   "metadata": {},
   "outputs": [],
   "source": [
    "X_train_final = np.hstack((X_train,cat_train_data))\n",
    "X_test_final = np.hstack((X_test,cat_test_data))"
   ]
  },
  {
   "cell_type": "code",
   "execution_count": 43,
   "id": "931f787e",
   "metadata": {},
   "outputs": [
    {
     "data": {
      "text/plain": [
       "numpy.ndarray"
      ]
     },
     "execution_count": 43,
     "metadata": {},
     "output_type": "execute_result"
    }
   ],
   "source": [
    "type(X_train_final)"
   ]
  },
  {
   "cell_type": "markdown",
   "id": "c23cf0d8",
   "metadata": {},
   "source": [
    "# Saving Dataframes & Models:"
   ]
  },
  {
   "cell_type": "code",
   "execution_count": 49,
   "id": "8fb573cb",
   "metadata": {},
   "outputs": [],
   "source": [
    "with open('X_train', 'wb') as fp:\n",
    "    pickle.dump(X_train_final, fp)"
   ]
  },
  {
   "cell_type": "code",
   "execution_count": 50,
   "id": "b268eba0",
   "metadata": {},
   "outputs": [],
   "source": [
    "with open('X_test', 'wb') as fp:\n",
    "    pickle.dump(X_test_final, fp)"
   ]
  },
  {
   "cell_type": "code",
   "execution_count": 51,
   "id": "f23ababb",
   "metadata": {},
   "outputs": [],
   "source": [
    "X_train = pickle.load(open('X_train','rb'))"
   ]
  },
  {
   "cell_type": "code",
   "execution_count": 52,
   "id": "5b63ecab",
   "metadata": {},
   "outputs": [],
   "source": [
    "X_test = pickle.load(open('X_test','rb'))"
   ]
  },
  {
   "cell_type": "code",
   "execution_count": 126,
   "id": "e8972b2d",
   "metadata": {},
   "outputs": [],
   "source": [
    "Y_train = pickle.load(open('Y_train','rb'))"
   ]
  },
  {
   "cell_type": "code",
   "execution_count": 127,
   "id": "77aaabd7",
   "metadata": {},
   "outputs": [],
   "source": [
    "Y_test = pickle.load(open('Y_test','rb'))"
   ]
  },
  {
   "cell_type": "code",
   "execution_count": 30,
   "id": "2dcef226",
   "metadata": {},
   "outputs": [
    {
     "data": {
      "text/plain": [
       "((359045, 23), (119682, 23))"
      ]
     },
     "execution_count": 30,
     "metadata": {},
     "output_type": "execute_result"
    }
   ],
   "source": [
    "X_train.shape, X_test.shape"
   ]
  },
  {
   "cell_type": "code",
   "execution_count": 45,
   "id": "2582cac6",
   "metadata": {},
   "outputs": [
    {
     "data": {
      "text/plain": [
       "(359045, 1)"
      ]
     },
     "execution_count": 45,
     "metadata": {},
     "output_type": "execute_result"
    }
   ],
   "source": [
    "Y_train = Y_train.values\n",
    "Y_train.shape"
   ]
  },
  {
   "cell_type": "code",
   "execution_count": 46,
   "id": "88d95769",
   "metadata": {},
   "outputs": [
    {
     "data": {
      "text/plain": [
       "(119682, 1)"
      ]
     },
     "execution_count": 46,
     "metadata": {},
     "output_type": "execute_result"
    }
   ],
   "source": [
    "Y_test = Y_test.values\n",
    "Y_test.shape"
   ]
  },
  {
   "cell_type": "code",
   "execution_count": 47,
   "id": "e0fa7187",
   "metadata": {},
   "outputs": [],
   "source": [
    "X_train = X_train_final\n",
    "X_test = X_test_final"
   ]
  },
  {
   "cell_type": "code",
   "execution_count": 54,
   "id": "7de78830",
   "metadata": {},
   "outputs": [],
   "source": [
    "with open('X_train', 'wb') as fp:\n",
    "    pickle.dump(X_train, fp)\n",
    "    \n",
    "with open('X_test', 'wb') as fp:\n",
    "    pickle.dump(X_test, fp)\n",
    "    \n",
    "with open('Y_train', 'wb') as fp:\n",
    "    pickle.dump(Y_train, fp)\n",
    "    \n",
    "with open('Y_test', 'wb') as fp:\n",
    "    pickle.dump(Y_test, fp)"
   ]
  },
  {
   "cell_type": "markdown",
   "id": "ba0299fb",
   "metadata": {},
   "source": [
    "# LGBM:"
   ]
  },
  {
   "cell_type": "markdown",
   "id": "c55fe342",
   "metadata": {},
   "source": [
    "# Without hyperparametre tuning:"
   ]
  },
  {
   "cell_type": "code",
   "execution_count": 76,
   "id": "bd168029",
   "metadata": {},
   "outputs": [
    {
     "name": "stderr",
     "output_type": "stream",
     "text": [
      "A column-vector y was passed when a 1d array was expected. Please change the shape of y to (n_samples, ), for example using ravel().\n"
     ]
    },
    {
     "data": {
      "text/html": [
       "<style>#sk-container-id-7 {color: black;background-color: white;}#sk-container-id-7 pre{padding: 0;}#sk-container-id-7 div.sk-toggleable {background-color: white;}#sk-container-id-7 label.sk-toggleable__label {cursor: pointer;display: block;width: 100%;margin-bottom: 0;padding: 0.3em;box-sizing: border-box;text-align: center;}#sk-container-id-7 label.sk-toggleable__label-arrow:before {content: \"▸\";float: left;margin-right: 0.25em;color: #696969;}#sk-container-id-7 label.sk-toggleable__label-arrow:hover:before {color: black;}#sk-container-id-7 div.sk-estimator:hover label.sk-toggleable__label-arrow:before {color: black;}#sk-container-id-7 div.sk-toggleable__content {max-height: 0;max-width: 0;overflow: hidden;text-align: left;background-color: #f0f8ff;}#sk-container-id-7 div.sk-toggleable__content pre {margin: 0.2em;color: black;border-radius: 0.25em;background-color: #f0f8ff;}#sk-container-id-7 input.sk-toggleable__control:checked~div.sk-toggleable__content {max-height: 200px;max-width: 100%;overflow: auto;}#sk-container-id-7 input.sk-toggleable__control:checked~label.sk-toggleable__label-arrow:before {content: \"▾\";}#sk-container-id-7 div.sk-estimator input.sk-toggleable__control:checked~label.sk-toggleable__label {background-color: #d4ebff;}#sk-container-id-7 div.sk-label input.sk-toggleable__control:checked~label.sk-toggleable__label {background-color: #d4ebff;}#sk-container-id-7 input.sk-hidden--visually {border: 0;clip: rect(1px 1px 1px 1px);clip: rect(1px, 1px, 1px, 1px);height: 1px;margin: -1px;overflow: hidden;padding: 0;position: absolute;width: 1px;}#sk-container-id-7 div.sk-estimator {font-family: monospace;background-color: #f0f8ff;border: 1px dotted black;border-radius: 0.25em;box-sizing: border-box;margin-bottom: 0.5em;}#sk-container-id-7 div.sk-estimator:hover {background-color: #d4ebff;}#sk-container-id-7 div.sk-parallel-item::after {content: \"\";width: 100%;border-bottom: 1px solid gray;flex-grow: 1;}#sk-container-id-7 div.sk-label:hover label.sk-toggleable__label {background-color: #d4ebff;}#sk-container-id-7 div.sk-serial::before {content: \"\";position: absolute;border-left: 1px solid gray;box-sizing: border-box;top: 0;bottom: 0;left: 50%;z-index: 0;}#sk-container-id-7 div.sk-serial {display: flex;flex-direction: column;align-items: center;background-color: white;padding-right: 0.2em;padding-left: 0.2em;position: relative;}#sk-container-id-7 div.sk-item {position: relative;z-index: 1;}#sk-container-id-7 div.sk-parallel {display: flex;align-items: stretch;justify-content: center;background-color: white;position: relative;}#sk-container-id-7 div.sk-item::before, #sk-container-id-7 div.sk-parallel-item::before {content: \"\";position: absolute;border-left: 1px solid gray;box-sizing: border-box;top: 0;bottom: 0;left: 50%;z-index: -1;}#sk-container-id-7 div.sk-parallel-item {display: flex;flex-direction: column;z-index: 1;position: relative;background-color: white;}#sk-container-id-7 div.sk-parallel-item:first-child::after {align-self: flex-end;width: 50%;}#sk-container-id-7 div.sk-parallel-item:last-child::after {align-self: flex-start;width: 50%;}#sk-container-id-7 div.sk-parallel-item:only-child::after {width: 0;}#sk-container-id-7 div.sk-dashed-wrapped {border: 1px dashed gray;margin: 0 0.4em 0.5em 0.4em;box-sizing: border-box;padding-bottom: 0.4em;background-color: white;}#sk-container-id-7 div.sk-label label {font-family: monospace;font-weight: bold;display: inline-block;line-height: 1.2em;}#sk-container-id-7 div.sk-label-container {text-align: center;}#sk-container-id-7 div.sk-container {/* jupyter's `normalize.less` sets `[hidden] { display: none; }` but bootstrap.min.css set `[hidden] { display: none !important; }` so we also need the `!important` here to be able to override the default hidden behavior on the sphinx rendered scikit-learn.org. See: https://github.com/scikit-learn/scikit-learn/issues/21755 */display: inline-block !important;position: relative;}#sk-container-id-7 div.sk-text-repr-fallback {display: none;}</style><div id=\"sk-container-id-7\" class=\"sk-top-container\"><div class=\"sk-text-repr-fallback\"><pre>LGBMRegressor()</pre><b>In a Jupyter environment, please rerun this cell to show the HTML representation or trust the notebook. <br />On GitHub, the HTML representation is unable to render, please try loading this page with nbviewer.org.</b></div><div class=\"sk-container\" hidden><div class=\"sk-item\"><div class=\"sk-estimator sk-toggleable\"><input class=\"sk-toggleable__control sk-hidden--visually\" id=\"sk-estimator-id-7\" type=\"checkbox\" checked><label for=\"sk-estimator-id-7\" class=\"sk-toggleable__label sk-toggleable__label-arrow\">LGBMRegressor</label><div class=\"sk-toggleable__content\"><pre>LGBMRegressor()</pre></div></div></div></div></div>"
      ],
      "text/plain": [
       "LGBMRegressor()"
      ]
     },
     "execution_count": 76,
     "metadata": {},
     "output_type": "execute_result"
    }
   ],
   "source": [
    "model = ltb.LGBMRegressor()\n",
    "model.fit(X_train,Y_train)"
   ]
  },
  {
   "cell_type": "code",
   "execution_count": 77,
   "id": "50e995c7",
   "metadata": {},
   "outputs": [],
   "source": [
    "predict = model.predict(X_test)"
   ]
  },
  {
   "cell_type": "code",
   "execution_count": 78,
   "id": "7f9376c7",
   "metadata": {},
   "outputs": [
    {
     "name": "stdout",
     "output_type": "stream",
     "text": [
      "0.3213219476975218\n"
     ]
    }
   ],
   "source": [
    "mse = mean_squared_error(Y_test,predict)\n",
    "print(math.sqrt(mse))"
   ]
  },
  {
   "cell_type": "markdown",
   "id": "ee9e4340",
   "metadata": {},
   "source": [
    "# With hyperparametre tuning:"
   ]
  },
  {
   "cell_type": "code",
   "execution_count": 79,
   "id": "7fcd853d",
   "metadata": {},
   "outputs": [
    {
     "name": "stdout",
     "output_type": "stream",
     "text": [
      "Fitting 10 folds for each of 10 candidates, totalling 100 fits\n"
     ]
    },
    {
     "name": "stderr",
     "output_type": "stream",
     "text": [
      "A column-vector y was passed when a 1d array was expected. Please change the shape of y to (n_samples, ), for example using ravel().\n"
     ]
    },
    {
     "name": "stdout",
     "output_type": "stream",
     "text": [
      "[LightGBM] [Warning] num_leaves is set=31, num_leaves= will be ignored. Current value: num_leaves=31\n",
      "[LightGBM] [Warning] Unknown parameter: 40\n",
      "[LightGBM] [Warning] min_data_in_leaf is set=2000, min_child_samples=20 will be ignored. Current value: min_data_in_leaf=2000\n",
      "[LightGBM] [Warning] min_gain_to_split is set=0, min_split_gain=0.0 will be ignored. Current value: min_gain_to_split=0\n",
      "[LightGBM] [Warning] lambda_l1 is set=25, reg_alpha=0.0 will be ignored. Current value: lambda_l1=25\n",
      "[LightGBM] [Warning] lambda_l2 is set=100, reg_lambda=0.0 will be ignored. Current value: lambda_l2=100\n"
     ]
    },
    {
     "data": {
      "text/plain": [
       "{'num_leaves ': 40,\n",
       " 'n_estimators': 100,\n",
       " 'min_gain_to_split': 0,\n",
       " 'min_data_in_leaf': 2000,\n",
       " 'max_depth': 6,\n",
       " 'learning_rate': 0.3,\n",
       " 'lambda_l2': 100,\n",
       " 'lambda_l1': 25}"
      ]
     },
     "execution_count": 79,
     "metadata": {},
     "output_type": "execute_result"
    }
   ],
   "source": [
    "n_estimators  = [10,30,50,70,100,150]\n",
    "depth = [2,4,6,8,10]\n",
    "learning_rate = [0.01,0.05,0.1,0.3]\n",
    "lambda_l1 = [0,5,15,25,50,70,100]\n",
    "lambda_l2 = [0,5,15,25,50,70,100]\n",
    "num_leaves = [16,24,32,40,50,64,128,256]\n",
    "min_gain_to_split = [0,3,5,8,12,15]\n",
    "min_data_in_leaf = [200,600,1000,2000,4000,5000]\n",
    "\n",
    "\n",
    "\n",
    "parameters = {'n_estimators':n_estimators,'max_depth':depth,'num_leaves ':num_leaves, 'min_gain_to_split' : min_gain_to_split,\n",
    "             'learning_rate':learning_rate,'lambda_l1':lambda_l1, 'lambda_l2':lambda_l2, 'min_data_in_leaf' :min_data_in_leaf}\n",
    "\n",
    "model = ltb.LGBMRegressor()\n",
    "random_search = RandomizedSearchCV(estimator = model, param_distributions = parameters, cv = 10, n_jobs = -1,\n",
    "                                   scoring = 'neg_mean_squared_log_error', verbose = 2, random_state = 0)\n",
    "random_search.fit(X_train, Y_train)\n",
    "\n",
    "random_search.best_params_"
   ]
  },
  {
   "cell_type": "code",
   "execution_count": 80,
   "id": "e6b0012c",
   "metadata": {},
   "outputs": [
    {
     "name": "stderr",
     "output_type": "stream",
     "text": [
      "A column-vector y was passed when a 1d array was expected. Please change the shape of y to (n_samples, ), for example using ravel().\n"
     ]
    },
    {
     "data": {
      "text/html": [
       "<style>#sk-container-id-8 {color: black;background-color: white;}#sk-container-id-8 pre{padding: 0;}#sk-container-id-8 div.sk-toggleable {background-color: white;}#sk-container-id-8 label.sk-toggleable__label {cursor: pointer;display: block;width: 100%;margin-bottom: 0;padding: 0.3em;box-sizing: border-box;text-align: center;}#sk-container-id-8 label.sk-toggleable__label-arrow:before {content: \"▸\";float: left;margin-right: 0.25em;color: #696969;}#sk-container-id-8 label.sk-toggleable__label-arrow:hover:before {color: black;}#sk-container-id-8 div.sk-estimator:hover label.sk-toggleable__label-arrow:before {color: black;}#sk-container-id-8 div.sk-toggleable__content {max-height: 0;max-width: 0;overflow: hidden;text-align: left;background-color: #f0f8ff;}#sk-container-id-8 div.sk-toggleable__content pre {margin: 0.2em;color: black;border-radius: 0.25em;background-color: #f0f8ff;}#sk-container-id-8 input.sk-toggleable__control:checked~div.sk-toggleable__content {max-height: 200px;max-width: 100%;overflow: auto;}#sk-container-id-8 input.sk-toggleable__control:checked~label.sk-toggleable__label-arrow:before {content: \"▾\";}#sk-container-id-8 div.sk-estimator input.sk-toggleable__control:checked~label.sk-toggleable__label {background-color: #d4ebff;}#sk-container-id-8 div.sk-label input.sk-toggleable__control:checked~label.sk-toggleable__label {background-color: #d4ebff;}#sk-container-id-8 input.sk-hidden--visually {border: 0;clip: rect(1px 1px 1px 1px);clip: rect(1px, 1px, 1px, 1px);height: 1px;margin: -1px;overflow: hidden;padding: 0;position: absolute;width: 1px;}#sk-container-id-8 div.sk-estimator {font-family: monospace;background-color: #f0f8ff;border: 1px dotted black;border-radius: 0.25em;box-sizing: border-box;margin-bottom: 0.5em;}#sk-container-id-8 div.sk-estimator:hover {background-color: #d4ebff;}#sk-container-id-8 div.sk-parallel-item::after {content: \"\";width: 100%;border-bottom: 1px solid gray;flex-grow: 1;}#sk-container-id-8 div.sk-label:hover label.sk-toggleable__label {background-color: #d4ebff;}#sk-container-id-8 div.sk-serial::before {content: \"\";position: absolute;border-left: 1px solid gray;box-sizing: border-box;top: 0;bottom: 0;left: 50%;z-index: 0;}#sk-container-id-8 div.sk-serial {display: flex;flex-direction: column;align-items: center;background-color: white;padding-right: 0.2em;padding-left: 0.2em;position: relative;}#sk-container-id-8 div.sk-item {position: relative;z-index: 1;}#sk-container-id-8 div.sk-parallel {display: flex;align-items: stretch;justify-content: center;background-color: white;position: relative;}#sk-container-id-8 div.sk-item::before, #sk-container-id-8 div.sk-parallel-item::before {content: \"\";position: absolute;border-left: 1px solid gray;box-sizing: border-box;top: 0;bottom: 0;left: 50%;z-index: -1;}#sk-container-id-8 div.sk-parallel-item {display: flex;flex-direction: column;z-index: 1;position: relative;background-color: white;}#sk-container-id-8 div.sk-parallel-item:first-child::after {align-self: flex-end;width: 50%;}#sk-container-id-8 div.sk-parallel-item:last-child::after {align-self: flex-start;width: 50%;}#sk-container-id-8 div.sk-parallel-item:only-child::after {width: 0;}#sk-container-id-8 div.sk-dashed-wrapped {border: 1px dashed gray;margin: 0 0.4em 0.5em 0.4em;box-sizing: border-box;padding-bottom: 0.4em;background-color: white;}#sk-container-id-8 div.sk-label label {font-family: monospace;font-weight: bold;display: inline-block;line-height: 1.2em;}#sk-container-id-8 div.sk-label-container {text-align: center;}#sk-container-id-8 div.sk-container {/* jupyter's `normalize.less` sets `[hidden] { display: none; }` but bootstrap.min.css set `[hidden] { display: none !important; }` so we also need the `!important` here to be able to override the default hidden behavior on the sphinx rendered scikit-learn.org. See: https://github.com/scikit-learn/scikit-learn/issues/21755 */display: inline-block !important;position: relative;}#sk-container-id-8 div.sk-text-repr-fallback {display: none;}</style><div id=\"sk-container-id-8\" class=\"sk-top-container\"><div class=\"sk-text-repr-fallback\"><pre>LGBMRegressor(lambda_l1=25, lambda_l2=100, learning_rate=0.3, max_depth=6,\n",
       "              min_data_in_leaf=2000, min_gain_to_split=0, num_leaves=40)</pre><b>In a Jupyter environment, please rerun this cell to show the HTML representation or trust the notebook. <br />On GitHub, the HTML representation is unable to render, please try loading this page with nbviewer.org.</b></div><div class=\"sk-container\" hidden><div class=\"sk-item\"><div class=\"sk-estimator sk-toggleable\"><input class=\"sk-toggleable__control sk-hidden--visually\" id=\"sk-estimator-id-8\" type=\"checkbox\" checked><label for=\"sk-estimator-id-8\" class=\"sk-toggleable__label sk-toggleable__label-arrow\">LGBMRegressor</label><div class=\"sk-toggleable__content\"><pre>LGBMRegressor(lambda_l1=25, lambda_l2=100, learning_rate=0.3, max_depth=6,\n",
       "              min_data_in_leaf=2000, min_gain_to_split=0, num_leaves=40)</pre></div></div></div></div></div>"
      ],
      "text/plain": [
       "LGBMRegressor(lambda_l1=25, lambda_l2=100, learning_rate=0.3, max_depth=6,\n",
       "              min_data_in_leaf=2000, min_gain_to_split=0, num_leaves=40)"
      ]
     },
     "execution_count": 80,
     "metadata": {},
     "output_type": "execute_result"
    }
   ],
   "source": [
    "model_tuned = ltb.LGBMRegressor(n_estimators= 100,min_gain_to_split =0,max_depth = 6,min_data_in_leaf =2000,\n",
    "                                learning_rate =  0.3,lambda_l2 = 100,lambda_l1 = 25,num_leaves = 40)\n",
    "\n",
    "model_tuned.fit(X_train,Y_train)"
   ]
  },
  {
   "cell_type": "code",
   "execution_count": 81,
   "id": "aab346d1",
   "metadata": {},
   "outputs": [
    {
     "name": "stdout",
     "output_type": "stream",
     "text": [
      "0.20369589312432762\n"
     ]
    }
   ],
   "source": [
    "predict_train = model_tuned.predict(X_train)\n",
    "mse_better_train = mean_squared_error(Y_train,predict_train)\n",
    "print(math.sqrt(mse_better_train))"
   ]
  },
  {
   "cell_type": "code",
   "execution_count": 82,
   "id": "43c90ab7",
   "metadata": {},
   "outputs": [],
   "source": [
    "predict_better = model_tuned.predict(X_test)"
   ]
  },
  {
   "cell_type": "code",
   "execution_count": 83,
   "id": "21929909",
   "metadata": {},
   "outputs": [
    {
     "name": "stdout",
     "output_type": "stream",
     "text": [
      "0.3214212954932539\n"
     ]
    }
   ],
   "source": [
    "mse_better = mean_squared_error(Y_test,predict_better)\n",
    "print(math.sqrt(mse_better))"
   ]
  },
  {
   "cell_type": "markdown",
   "id": "24397ffa",
   "metadata": {},
   "source": [
    "- Root mean squared error : 0.3214"
   ]
  },
  {
   "cell_type": "markdown",
   "id": "4137b96a",
   "metadata": {},
   "source": [
    "# Shap: Feature Importance"
   ]
  },
  {
   "cell_type": "code",
   "execution_count": 51,
   "id": "f2f146e7",
   "metadata": {},
   "outputs": [],
   "source": [
    "explainer = shap.Explainer(model_tuned)\n",
    "shap_values = explainer(X_train)"
   ]
  },
  {
   "cell_type": "code",
   "execution_count": 52,
   "id": "1365df02",
   "metadata": {},
   "outputs": [
    {
     "data": {
      "image/png": "[encoded data removed]",
      "text/plain": [
       "<Figure size 576x468 with 1 Axes>"
      ]
     },
     "metadata": {},
     "output_type": "display_data"
    }
   ],
   "source": [
    "shap.plots.bar(shap_values)"
   ]
  },
  {
   "cell_type": "code",
   "execution_count": 53,
   "id": "6c679cbd",
   "metadata": {},
   "outputs": [
    {
     "data": {
      "image/png": "[encoded data removed]",
      "text/plain": [
       "<Figure size 576x396 with 2 Axes>"
      ]
     },
     "metadata": {
      "needs_background": "light"
     },
     "output_type": "display_data"
    }
   ],
   "source": [
    "shap.plots.beeswarm(shap_values)"
   ]
  },
  {
   "cell_type": "code",
   "execution_count": null,
   "id": "836e2348",
   "metadata": {},
   "outputs": [],
   "source": []
  }
 ],
 "metadata": {
  "kernelspec": {
   "display_name": "Python 3 (ipykernel)",
   "language": "python",
   "name": "python3"
  },
  "language_info": {
   "codemirror_mode": {
    "name": "ipython",
    "version": 3
   },
   "file_extension": ".py",
   "mimetype": "text/x-python",
   "name": "python",
   "nbconvert_exporter": "python",
   "pygments_lexer": "ipython3",
   "version": "3.9.12"
  }
 },
 "nbformat": 4,
 "nbformat_minor": 5
}
